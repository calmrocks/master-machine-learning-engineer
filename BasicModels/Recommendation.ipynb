{
  "nbformat": 4,
  "nbformat_minor": 0,
  "metadata": {
    "kernelspec": {
      "name": "python3",
      "display_name": "Python 3"
    },
    "language_info": {
      "name": "python"
    },
    "title": "Building a Movie Recommendation System"
  },
  "cells": [
    {
      "cell_type": "markdown",
      "metadata": {},
      "source": "## Case Study: Building a Movie Recommendation System\n\nThis case study demonstrates how to develop a recommendation system using the **MovieLens Dataset**. We explore collaborative filtering, content-based filtering, and hybrid models to recommend movies based on user preferences and behavior."
    },
    {
      "cell_type": "markdown",
      "metadata": {},
      "source": "### Dataset Overview\n\nThe **MovieLens Dataset** is a popular benchmark for evaluating recommendation systems. It contains:\n- **Users**: Over 600 users with unique IDs.\n- **Movies**: Over 9,000 movies with metadata such as title, genres, and release year.\n- **Ratings**: User-movie interactions, where each rating is a value from 1 to 5.\n\nThe dataset can be downloaded from [MovieLens](https://grouplens.org/datasets/movielens/)."
    },
    {
      "cell_type": "markdown",
      "metadata": {},
      "source": "## Step 1: Data Preparation"
    },
    {
      "cell_type": "code",
      "metadata": {},
      "source": "import pandas as pd\n\n# Load the dataset\nratings = pd.read_csv('ratings.csv')\nmovies = pd.read_csv('movies.csv')\n\n# Merge datasets for a complete view\ndata = pd.merge(ratings, movies, on='movieId')\n\n# Display the first few rows\nprint(data.head())"
    },
    {
      "cell_type": "markdown",
      "metadata": {},
      "source": "### Data Cleaning and Transformation"
    },
    {
      "cell_type": "code",
      "metadata": {},
      "source": "# Check for missing values\nprint(data.isnull().sum())\n\n# Normalize ratings between 0 and 1\ndata['rating_normalized'] = data['rating'] / data['rating'].max()"
    },
    {
      "cell_type": "markdown",
      "metadata": {},
      "source": "## Step 2: Collaborative Filtering\n\nCollaborative filtering predicts a user’s preferences by analyzing the behavior of similar users or items."
    },
    {
      "cell_type": "code",
      "metadata": {},
      "source": "from sklearn.decomposition import TruncatedSVD\nfrom sklearn.metrics.pairwise import cosine_similarity\nimport numpy as np\n\n# Create a user-item matrix\nuser_item_matrix = data.pivot_table(index='userId', columns='title', values='rating').fillna(0)\n\n# Apply Singular Value Decomposition (SVD)\nsvd = TruncatedSVD(n_components=50, random_state=42)\nlatent_matrix = svd.fit_transform(user_item_matrix)\n\n# Compute cosine similarity between users\nuser_similarity = cosine_similarity(latent_matrix)\n\n# Recommend movies for a specific user\ndef recommend_movies(user_id, top_n=5):\n    user_index = user_id - 1  # Adjust for 0-based indexing\n    similar_users = np.argsort(-user_similarity[user_index])  # Sort users by similarity\n    similar_user_index = similar_users[1]  # Skip self\n    similar_user_ratings = user_item_matrix.iloc[similar_user_index]\n    recommended_movies = similar_user_ratings[similar_user_ratings > 0].sort_values(ascending=False).head(top_n)\n    return recommended_movies.index\n\n# Get recommendations for user 1\nprint(f\"Recommendations for User 1: {recommend_movies(1)}\")"
    },
    {
      "cell_type": "markdown",
      "metadata": {},
      "source": "## Step 3: Content-Based Filtering\n\nContent-based filtering recommends movies similar to those a user has already liked by analyzing item attributes."
    },
    {
      "cell_type": "code",
      "metadata": {},
      "source": "from sklearn.feature_extraction.text import CountVectorizer\nfrom sklearn.metrics.pairwise import cosine_similarity\n\n# Create a genre matrix using CountVectorizer\nvectorizer = CountVectorizer()\ngenre_matrix = vectorizer.fit_transform(movies['genres'])\n\n# Compute cosine similarity between movies\ngenre_similarity = cosine_similarity(genre_matrix)\n\n# Recommend movies based on similarity to a given movie\ndef recommend_similar_movies(movie_title, top_n=5):\n    movie_index = movies[movies['title'] == movie_title].index[0]\n    similar_movies = np.argsort(-genre_similarity[movie_index])\n    recommended_movies = movies.iloc[similar_movies[1:top_n+1]]  # Skip the input movie\n    return recommended_movies['title']\n\n# Get similar movies to \"Toy Story (1995)\"\nprint(f\"Movies similar to 'Toy Story (1995)': {recommend_similar_movies('Toy Story (1995)')}\")"
    },
    {
      "cell_type": "markdown",
      "metadata": {},
      "source": "## Step 4: Hybrid Model\n\nHybrid models combine collaborative and content-based filtering for improved recommendations."
    },
    {
      "cell_type": "code",
      "metadata": {},
      "source": "# Combine collaborative filtering and content-based scores\ndef hybrid_recommendation(user_id, movie_title, top_n=5):\n    # Collaborative filtering recommendations\n    collaborative_recs = recommend_movies(user_id, top_n)\n    \n    # Content-based recommendations\n    content_recs = recommend_similar_movies(movie_title, top_n)\n    \n    # Combine recommendations with weights\n    combined_recs = list(set(collaborative_recs) | set(content_recs))\n    return combined_recs[:top_n]\n\n# Hybrid recommendation for User 1 and \"Toy Story (1995)\"\nprint(f\"Hybrid Recommendations: {hybrid_recommendation(1, 'Toy Story (1995)')}\")"
    },
    {
      "cell_type": "markdown",
      "metadata": {},
      "source": "## Step 5: Evaluation\n\n### Evaluation Metrics"
    },
    {
      "cell_type": "code",
      "metadata": {},
      "source": "from sklearn.metrics import mean_absolute_error\n\n# Calculate MAE for collaborative filtering\nuser_ratings = user_item_matrix.loc[1]\npredicted_ratings = svd.inverse_transform(latent_matrix)[0]\nmae = mean_absolute_error(user_ratings[user_ratings > 0], predicted_ratings[user_ratings > 0])\nprint(f\"Mean Absolute Error (MAE): {mae}\")"
    },
    {
      "cell_type": "markdown",
      "metadata": {},
      "source": "## Step 6: Deployment and Applications\n\n### Deployment Options:\n- **Batch Recommendations**: Precompute recommendations for all users and store them for fast retrieval.\n- **Real-Time Recommendations**: Generate recommendations dynamically using pre-trained models and updated user data.\n\n### Applications:\n1. **Streaming Services**: Personalized movie or song recommendations.\n2. **E-Commerce**: Product recommendations based on browsing or purchase history.\n3. **Education Platforms**: Course recommendations tailored to user learning progress."
    },
    {
      "cell_type": "markdown",
      "metadata": {},
      "source": "## Summary and Recommendations\n\n### Summary:\n- **Collaborative Filtering**: Suitable for platforms with abundant user-item interaction data. Matrix factorization (e.g., SVD) effectively handles sparse datasets.\n- **Content-Based Filtering**: Useful for new platforms or items with rich metadata. It relies on item attributes, making it less dependent on user interaction data.\n- **Hybrid Models**: Combine the strengths of collaborative and content-based filtering, mitigating the cold start problem and improving accuracy.\n\n### Recommendations:\n- Use **collaborative filtering** for platforms with a large user base and extensive interaction data.\n- Leverage **content-based filtering** for platforms with rich item metadata or in cases of cold start for new items.\n- Adopt **hybrid models** for comprehensive recommendations, balancing personalization and cold start challenges.\n\nBy following these steps, practitioners can build effective recommendation systems to enhance user experience, drive engagement, and improve retention."
    }
  ]
}
