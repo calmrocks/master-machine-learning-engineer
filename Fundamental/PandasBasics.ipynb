{
  "nbformat": 4,
  "nbformat_minor": 0,
  "metadata": {
    "colab": {
      "provenance": [],
      "include_colab_link": true
    },
    "kernelspec": {
      "name": "python3",
      "display_name": "Python 3"
    }
  },
  "cells": [
    {
      "cell_type": "markdown",
      "metadata": {},
      "source": [
        "# Pandas Fundamentals for Data Processing\n",
        "\n",
        "This notebook demonstrates essential Pandas operations for data manipulation and analysis. We'll cover basic data structures, common operations, and best practices."
      ]
    },
    {
      "cell_type": "code",
      "metadata": {},
      "source": [
        "# Import required libraries\n",
        "import pandas as pd\n",
        "import numpy as np"
      ],
      "execution_count": null,
      "outputs": []
    },
    {
      "cell_type": "markdown",
      "metadata": {},
      "source": [
        "## Basic Data Structures\n",
        "\n",
        "### Series\n",
        "A Series is a one-dimensional labeled array that can hold data of any type (integer, float, string, Python objects, etc.)."
      ]
    },
    {
      "cell_type": "code",
      "metadata": {},
      "source": [
        "# Creating Series\n",
        "s = pd.Series([1, 2, 3, 4, 5])\n",
        "print(\"Basic Series:\")\n",
        "print(s)\n",
        "\n",
        "# Series with custom labels\n",
        "s_with_labels = pd.Series([1, 2, 3], index=['a', 'b', 'c'])\n",
        "print(\"\\nSeries with custom labels:\")\n",
        "print(s_with_labels)\n",
        "\n",
        "# Accessing elements\n",
        "print(\"\\nAccessing elements:\")\n",
        "print(f\"By position (s[0]): {s[0]}\")\n",
        "print(f\"By label (s_with_labels['a']): {s_with_labels['a']}\")"
      ],
      "execution_count": null,
      "outputs": []
    },
    {
      "cell_type": "markdown",
      "metadata": {},
      "source": [
        "### DataFrame\n",
        "A DataFrame is a 2-dimensional labeled data structure with columns of potentially different types. Think of it as a spreadsheet or SQL table."
      ]
    },
    {
      "cell_type": "code",
      "metadata": {},
      "source": [
        "# Creating DataFrame from dictionary\n",
        "data = {\n",
        "    'name': ['John', 'Anna', 'Peter'],\n",
        "    'age': [28, 22, 35],\n",
        "    'city': ['New York', 'Paris', 'London']\n",
        "}\n",
        "df = pd.DataFrame(data)\n",
        "print(\"DataFrame from dictionary:\")\n",
        "print(df)\n",
        "\n",
        "# Creating DataFrame from list of dictionaries\n",
        "records = [\n",
        "    {'name': 'John', 'age': 28},\n",
        "    {'name': 'Anna', 'age': 22}\n",
        "]\n",
        "df_records = pd.DataFrame(records)\n",
        "print(\"\\nDataFrame from list of dictionaries:\")\n",
        "print(df_records)"
      ],
      "execution_count": null,
      "outputs": []
    },
    {
      "cell_type": "markdown",
      "metadata": {},
      "source": [
        "## Basic Operations\n",
        "\n",
        "### Viewing Data\n",
        "Let's explore different ways to inspect our DataFrame."
      ]
    },
    {
      "cell_type": "code",
      "metadata": {},
      "source": [
        "# Create a larger dataset for demonstration\n",
        "df = pd.DataFrame({\n",
        "    'name': ['John', 'Anna', 'Peter', 'Linda', 'Bob'],\n",
        "    'age': [28, 22, 35, 25, 30],\n",
        "    'city': ['New York', 'Paris', 'London', 'Berlin', 'Tokyo'],\n",
        "    'salary': [50000, 60000, 75000, 65000, 70000]\n",
        "})\n",
        "\n",
        "# Basic information about DataFrame\n",
        "print(\"DataFrame Info:\")\n",
        "df.info()\n",
        "\n",
        "print(\"\\nStatistical Summary:\")\n",
        "print(df.describe())\n",
        "\n",
        "print(\"\\nFirst 3 rows:\")\n",
        "print(df.head(3))\n",
        "\n",
        "print(\"\\nColumn names:\")\n",
        "print(df.columns)"
      ],
      "execution_count": null,
      "outputs": []
    },
    {
      "cell_type": "markdown",
      "metadata": {},
      "source": [
        "### Selecting Data\n",
        "Different methods to access and filter data in DataFrames."
      ]
    },
    {
      "cell_type": "code",
      "metadata": {},
      "source": [
        "# Selecting columns\n",
        "print(\"Single column:\")\n",
        "print(df['name'])\n",
        "\n",
        "print(\"\\nMultiple columns:\")\n",
        "print(df[['name', 'age']])\n",
        "\n",
        "# Filtering rows\n",
        "print(\"\\nPeople older than 25:\")\n",
        "print(df[df['age'] > 25])\n",
        "\n",
        "# Using loc and iloc\n",
        "print(\"\\nUsing loc (label-based):\")\n",
        "print(df.loc[0:2, 'name':'age'])\n",
        "\n",
        "print(\"\\nUsing iloc (position-based):\")\n",
        "print(df.iloc[0:2, 0:2])"
      ],
      "execution_count": null,
      "outputs": []
    },
    {
      "cell_type": "markdown",
      "metadata": {},
      "source": [
        "### Data Manipulation\n",
        "Adding, removing, and modifying data in DataFrames."
      ]
    },
    {
      "cell_type": "code",
      "metadata": {},
      "source": [
        "# Adding a new column\n",
        "df['bonus'] = df['salary'] * 0.1\n",
        "print(\"DataFrame with bonus column:\")\n",
        "print(df)\n",
        "\n",
        "# Adding a new row\n",
        "new_row = pd.Series({'name': 'Mary', 'age': 31, 'city': 'Chicago', 'salary': 80000, 'bonus': 8000})\n",
        "df = df.append(new_row, ignore_index=True)\n",
        "print(\"\\nDataFrame with new row:\")\n",
        "print(df)\n",
        "\n",
        "# Removing a column\n",
        "df = df.drop('bonus', axis=1)\n",
        "print(\"\\nDataFrame after removing bonus column:\")\n",
        "print(df)"
      ],
      "execution_count": null,
      "outputs": []
    },
    {
      "cell_type": "markdown",
      "metadata": {},
      "source": [
        "### Grouping and Aggregation\n",
        "Analyzing data by groups and performing aggregate operations."
      ]
    },
    {
      "cell_type": "code",
      "metadata": {},
      "source": [
        "# Basic grouping\n",
        "print(\"Average salary by city:\")\n",
        "print(df.groupby('city')['salary'].mean())\n",
        "\n",
        "# Multiple aggregations\n",
        "print(\"\\nMultiple aggregations by city:\")\n",
        "print(df.groupby('city').agg({\n",
        "    'salary': ['mean', 'sum'],\n",
        "    'age': 'max'\n",
        "}))"
      ],
      "execution_count": null,
      "outputs": []
    },
    {
      "cell_type": "markdown",
      "metadata": {},
      "source": [
        "### Merging DataFrames\n",
        "Combining multiple DataFrames using different join operations."
      ]
    },
    {
      "cell_type": "code",
      "metadata": {},
      "source": [
        "# Create two DataFrames\n",
        "df1 = pd.DataFrame({\n",
        "    'id': [1, 2, 3, 4],\n",
        "    'name': ['John', 'Anna', 'Peter', 'Linda']\n",
        "})\n",
        "\n",
        "df2 = pd.DataFrame({\n",
        "    'id': [1, 2, 3, 5],\n",
        "    'salary': [50000, 60000, 75000, 65000]\n",
        "})\n",
        "\n",
        "# Inner join\n",
        "print(\"Inner join:\")\n",
        "print(pd.merge(df1, df2, on='id'))\n",
        "\n",
        "# Left join\n",
        "print(\"\\nLeft join:\")\n",
        "print(pd.merge(df1, df2, on='id', how='left'))\n",
        "\n",
        "# Outer join\n",
        "print(\"\\nOuter join:\")\n",
        "print(pd.merge(df1, df2, on='id', how='outer'))"
      ],
      "execution_count": null,
      "outputs": []
    }
  ]
}
