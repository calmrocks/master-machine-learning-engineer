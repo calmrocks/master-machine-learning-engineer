{
  "nbformat": 4,
  "nbformat_minor": 0,
  "metadata": {
    "colab": {
      "provenance": [],
      "include_colab_link": true
    },
    "kernelspec": {
      "name": "python3",
      "display_name": "Python 3"
    },
    "language_info": {
      "name": "python"
    }
  },
  "cells": [
    {
      "cell_type": "markdown",
      "metadata": {
        "id": "view-in-github",
        "colab_type": "text"
      },
      "source": [
        "<a href=\"https://colab.research.google.com/github/calmrocks/master-machine-learning-engineer/blob/main/Fundamental/PythonBasicc.ipynb\" target=\"_parent\"><img src=\"https://colab.research.google.com/assets/colab-badge.svg\" alt=\"Open In Colab\"/></a>"
      ]
    },
    {
      "cell_type": "markdown",
      "metadata": {
        "id": "2RjUpFhLJNVs"
      },
      "source": [
        "# Python Fundamentals for Software Engineers\n",
        "\n",
        "This notebook covers essential Python concepts for software engineers transitioning from languages like Java and C++."
      ]
    },
    {
      "cell_type": "markdown",
      "metadata": {
        "id": "zKcS0M64JNVt"
      },
      "source": [
        "## Basic Syntax and Structure\n",
        "\n",
        "### Variables and Data Types\n",
        "Python is dynamically typed - no need to declare variable types."
      ]
    },
    {
      "cell_type": "code",
      "metadata": {
        "id": "I_E0pqwGJNVt"
      },
      "source": [
        "# Basic data types\n",
        "x = 5                   # integer\n",
        "y = 3.14                # float\n",
        "name = \"Python\"         # string\n",
        "is_valid = True         # boolean\n",
        "numbers = [1, 2, 3]     # list\n",
        "point = (2, 3)          # tuple\n",
        "person = {              # dictionary\n",
        "    \"name\": \"John\",\n",
        "    \"age\": 30\n",
        "}\n",
        "unique_items = {1, 2, 3}  # set\n",
        "\n",
        "# Print all variables to see their types\n",
        "for var_name, var_value in locals().items():\n",
        "    if not var_name.startswith('_'):\n",
        "        print(f\"{var_name}: {type(var_value)}\")"
      ],
      "execution_count": null,
      "outputs": []
    },
    {
      "cell_type": "markdown",
      "metadata": {
        "id": "FhpmL8YxJNVu"
      },
      "source": [
        "### Control Flow\n",
        "Python uses indentation for code blocks (typically 4 spaces)."
      ]
    },
    {
      "cell_type": "code",
      "metadata": {
        "id": "FeB8C5nUJNVu"
      },
      "source": [
        "# If statement example\n",
        "x = 10\n",
        "if x > 0:\n",
        "    print(\"Positive\")\n",
        "elif x < 0:\n",
        "    print(\"Negative\")\n",
        "else:\n",
        "    print(\"Zero\")\n",
        "\n",
        "# While loop example\n",
        "print(\"\\nWhile loop:\")\n",
        "count = 0\n",
        "while count < 3:\n",
        "    print(count)\n",
        "    count += 1\n",
        "\n",
        "# For loop examples\n",
        "print(\"\\nFor loop with range:\")\n",
        "for i in range(3):\n",
        "    print(i)\n",
        "\n",
        "print(\"\\nFor loop with collection:\")\n",
        "fruits = [\"apple\", \"banana\", \"orange\"]\n",
        "for fruit in fruits:\n",
        "    print(fruit)"
      ],
      "execution_count": null,
      "outputs": []
    },
    {
      "cell_type": "markdown",
      "metadata": {
        "id": "EPXUWcxaJNVv"
      },
      "source": [
        "### Functions\n",
        "Different ways to define and use functions in Python"
      ]
    },
    {
      "cell_type": "code",
      "metadata": {
        "id": "YKDdwoOhJNVv"
      },
      "source": [
        "# Basic function\n",
        "def greet(name):\n",
        "    return f\"Hello, {name}!\"\n",
        "\n",
        "# Function with default parameters\n",
        "def create_profile(name, age=25, city=\"Unknown\"):\n",
        "    return f\"{name} is {age} years old from {city}\"\n",
        "\n",
        "# Function with multiple return values\n",
        "def get_dimensions():\n",
        "    return 100, 200\n",
        "\n",
        "# Lambda function\n",
        "square = lambda x: x**2\n",
        "\n",
        "# Testing the functions\n",
        "print(greet(\"Alice\"))\n",
        "print(create_profile(\"Bob\", 30, \"New York\"))\n",
        "print(create_profile(\"Charlie\"))\n",
        "width, height = get_dimensions()\n",
        "print(f\"Dimensions: {width}x{height}\")\n",
        "print(f\"Square of 5: {square(5)}\")"
      ],
      "execution_count": null,
      "outputs": []
    },
    {
      "cell_type": "markdown",
      "metadata": {
        "id": "qE5kO5wuJNVv"
      },
      "source": [
        "### Classes and Objects\n",
        "Object-oriented programming in Python"
      ]
    },
    {
      "cell_type": "code",
      "metadata": {
        "id": "45MHkd9oJNVv"
      },
      "source": [
        "class Person:\n",
        "    # Class variable\n",
        "    species = \"Human\"\n",
        "\n",
        "    # Constructor\n",
        "    def __init__(self, name, age):\n",
        "        self.name = name\n",
        "        self.age = age\n",
        "\n",
        "    # Instance method\n",
        "    def introduce(self):\n",
        "        return f\"Hi, I'm {self.name}, {self.age} years old\"\n",
        "\n",
        "    # Static method\n",
        "    @staticmethod\n",
        "    def is_adult(age):\n",
        "        return age >= 18\n",
        "\n",
        "    # Class method\n",
        "    @classmethod\n",
        "    def create_child(cls, name):\n",
        "        return cls(name, 0)\n",
        "\n",
        "# Creating and using objects\n",
        "person1 = Person(\"Alice\", 30)\n",
        "person2 = Person.create_child(\"Baby Bob\")\n",
        "\n",
        "print(person1.introduce())\n",
        "print(person2.introduce())\n",
        "print(f\"Is Alice adult? {Person.is_adult(person1.age)}\")\n",
        "print(f\"Is Bob adult? {Person.is_adult(person2.age)}\")"
      ],
      "execution_count": null,
      "outputs": []
    },
    {
      "cell_type": "markdown",
      "metadata": {
        "id": "CKc80_UsJNVw"
      },
      "source": [
        "### List Comprehensions and Generator Expressions"
      ]
    },
    {
      "cell_type": "code",
      "metadata": {
        "id": "WmJQkfoSJNVw"
      },
      "source": [
        "# List comprehensions\n",
        "squares = [x**2 for x in range(10)]\n",
        "even_nums = [x for x in range(10) if x % 2 == 0]\n",
        "\n",
        "# Dictionary comprehension\n",
        "square_dict = {x: x**2 for x in range(5)}\n",
        "\n",
        "# Generator expression\n",
        "sum_of_squares = sum(x**2 for x in range(10))\n",
        "\n",
        "print(f\"Squares: {squares}\")\n",
        "print(f\"Even numbers: {even_nums}\")\n",
        "print(f\"Square dictionary: {square_dict}\")\n",
        "print(f\"Sum of squares: {sum_of_squares}\")"
      ],
      "execution_count": null,
      "outputs": []
    },
    {
      "cell_type": "markdown",
      "metadata": {
        "id": "Bl6P0S0-JNVw"
      },
      "source": [
        "### Exception Handling"
      ]
    },
    {
      "cell_type": "code",
      "metadata": {
        "id": "WrgPXGCIJNVw"
      },
      "source": [
        "def divide(a, b):\n",
        "    try:\n",
        "        result = a / b\n",
        "    except ZeroDivisionError:\n",
        "        print(\"Cannot divide by zero\")\n",
        "        return None\n",
        "    except Exception as e:\n",
        "        print(f\"Error occurred: {e}\")\n",
        "        return None\n",
        "    else:\n",
        "        print(\"Division successful\")\n",
        "        return result\n",
        "    finally:\n",
        "        print(\"This always executes\")\n",
        "\n",
        "print(\"Dividing 10 by 2:\")\n",
        "print(divide(10, 2))\n",
        "print(\"\\nDividing 10 by 0:\")\n",
        "print(divide(10, 0))"
      ],
      "execution_count": null,
      "outputs": []
    },
    {
      "cell_type": "markdown",
      "metadata": {
        "id": "ukfEfJnuJNVw"
      },
      "source": [
        "### Modern String Formatting"
      ]
    },
    {
      "cell_type": "code",
      "metadata": {
        "id": "oytLJTOqJNVx"
      },
      "source": [
        "name = \"John\"\n",
        "age = 30\n",
        "\n",
        "# f-strings (Python 3.6+)\n",
        "message1 = f\"Hello, {name}! You are {age} years old\"\n",
        "\n",
        "# str.format()\n",
        "message2 = \"Hello, {}! You are {} years old\".format(name, age)\n",
        "\n",
        "# %-formatting (old style)\n",
        "message3 = \"Hello, %s! You are %d years old\" % (name, age)\n",
        "\n",
        "print(\"f-string:\", message1)\n",
        "print(\"str.format():\", message2)\n",
        "print(\"%-formatting:\", message3)"
      ],
      "execution_count": null,
      "outputs": []
    }
  ]
}