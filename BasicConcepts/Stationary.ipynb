{
  "nbformat": 4,
  "nbformat_minor": 0,
  "metadata": {
    "colab": {
      "provenance": [],
      "include_colab_link": true
    },
    "kernelspec": {
      "name": "python3",
      "display_name": "Python 3"
    },
    "language_info": {
      "name": "python"
    }
  },
  "cells": [
    {
      "cell_type": "markdown",
      "metadata": {
        "id": "view-in-github",
        "colab_type": "text"
      },
      "source": [
        "<a href=\"https://colab.research.google.com/github/calmrocks/master-machine-learning-engineer/blob/main/BasicConcepts/Stationary.ipynb\" target=\"_parent\"><img src=\"https://colab.research.google.com/assets/colab-badge.svg\" alt=\"Open In Colab\"/></a>"
      ]
    },
    {
      "cell_type": "markdown",
      "source": [
        "# Understanding Stationarity in Time Series\n",
        "\n",
        "## What is Stationarity?\n",
        "\n",
        "Stationarity is a fundamental concept in time series analysis. A time series is considered stationary when its statistical properties remain constant over time. Specifically, a stationary time series has:\n",
        "\n",
        "1. Constant mean\n",
        "2. Constant variance\n",
        "3. Constant autocovariance\n",
        "\n",
        "Why is stationarity important?\n",
        "- Many statistical methods and time series models assume stationarity\n",
        "- Makes it easier to predict future values\n",
        "- Helps in understanding the underlying patterns\n",
        "\n",
        "Let's explore this concept with examples.\n"
      ],
      "metadata": {
        "id": "9DpRZqObQ_R2"
      }
    },
    {
      "cell_type": "code",
      "source": [
        "# Import necessary libraries\n",
        "import numpy as np\n",
        "import pandas as pd\n",
        "import matplotlib.pyplot as plt\n",
        "import seaborn as sns\n",
        "from statsmodels.tsa.stattools import adfuller\n",
        "from statsmodels.tsa.seasonal import seasonal_decompose\n",
        "\n",
        "# Set style for better visualizations\n",
        "plt.style.use('seaborn')"
      ],
      "metadata": {
        "id": "_M3H_wUiREK4"
      },
      "execution_count": null,
      "outputs": []
    },
    {
      "cell_type": "code",
      "source": [],
      "metadata": {
        "id": "5NiaZYPxRLk2"
      },
      "execution_count": null,
      "outputs": []
    }
  ]
}