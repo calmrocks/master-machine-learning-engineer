{
  "nbformat": 4,
  "nbformat_minor": 0,
  "metadata": {
    "colab": {
      "provenance": [],
      "authorship_tag": "ABX9TyNiVdCD0aAOnU68g6X0Go3S",
      "include_colab_link": true
    },
    "kernelspec": {
      "name": "python3",
      "display_name": "Python 3"
    },
    "language_info": {
      "name": "python"
    }
  },
  "cells": [
    {
      "cell_type": "markdown",
      "metadata": {
        "id": "view-in-github",
        "colab_type": "text"
      },
      "source": [
        "<a href=\"https://colab.research.google.com/github/calmrocks/master-machine-learning-engineer/blob/main/BasicConcepts/CrossValidation.ipynb\" target=\"_parent\"><img src=\"https://colab.research.google.com/assets/colab-badge.svg\" alt=\"Open In Colab\"/></a>"
      ]
    },
    {
      "cell_type": "markdown",
      "source": [
        "# Understanding Cross-Validation in Machine Learning\n",
        "\n",
        "## Introduction\n",
        "Cross-validation is a crucial technique in machine learning used to assess how well a model will generalize to new, unseen data. It helps prevent overfitting and provides a more reliable estimate of model performance than a single train-test split."
      ],
      "metadata": {
        "id": "TqXLscgW5X1P"
      }
    },
    {
      "cell_type": "code",
      "source": [
        "# Import necessary libraries\n",
        "import numpy as np\n",
        "import pandas as pd\n",
        "from sklearn.model_selection import train_test_split, cross_val_score, KFold\n",
        "from sklearn.datasets import load_iris\n",
        "from sklearn.linear_model import LogisticRegression\n",
        "import matplotlib.pyplot as plt"
      ],
      "metadata": {
        "id": "y2J_3LyH5ckK"
      },
      "execution_count": null,
      "outputs": []
    },
    {
      "cell_type": "markdown",
      "source": [
        "## Why Do We Need Cross-Validation?\n",
        "\n",
        "Traditional train-test splits have limitations:\n",
        "1. The evaluation might depend heavily on the particular random split of the data\n",
        "2. We might get lucky or unlucky with our split\n",
        "3. We don't make full use of our data for training\n",
        "\n",
        "Let's first look at a simple train-test split example:"
      ],
      "metadata": {
        "id": "gQZ5Y_m65jOT"
      }
    },
    {
      "cell_type": "code",
      "source": [
        "# Load sample dataset\n",
        "iris = load_iris()\n",
        "X = iris.data\n",
        "y = iris.target\n",
        "\n",
        "# Simple train-test split\n",
        "X_train, X_test, y_train, y_test = train_test_split(X, y, test_size=0.2, random_state=42)\n",
        "\n",
        "# Train a simple model\n",
        "model = LogisticRegression(max_iter=200)\n",
        "model.fit(X_train, y_train)\n",
        "\n",
        "print(f\"Test accuracy with simple split: {model.score(X_test, y_test):.3f}\")"
      ],
      "metadata": {
        "id": "0ct_rRpe5lPJ",
        "outputId": "ee37a8a9-01d5-4933-aa4b-a82bebd70be3",
        "colab": {
          "base_uri": "https://localhost:8080/"
        }
      },
      "execution_count": null,
      "outputs": [
        {
          "output_type": "stream",
          "name": "stdout",
          "text": [
            "Test accuracy with simple split: 1.000\n"
          ]
        }
      ]
    },
    {
      "cell_type": "markdown",
      "source": [
        "## K-Fold Cross-Validation\n",
        "\n",
        "K-fold cross-validation involves:\n",
        "1. Splitting the data into K equal parts (folds)\n",
        "2. Using K-1 folds for training and 1 fold for testing\n",
        "3. Repeating this process K times, each time using a different fold as the test set\n",
        "4. Averaging the results\n",
        "\n",
        "Let's implement this step by step:"
      ],
      "metadata": {
        "id": "8ZqyKKih5nwg"
      }
    },
    {
      "cell_type": "code",
      "source": [
        "# Implement basic k-fold cross-validation\n",
        "def simple_kfold_cv(X, y, k=5):\n",
        "    # Create k roughly equal-sized folds\n",
        "    fold_size = len(X) // k\n",
        "    scores = []\n",
        "\n",
        "    for i in range(k):\n",
        "        # Create test indices for this fold\n",
        "        test_start = i * fold_size\n",
        "        test_end = (i + 1) * fold_size\n",
        "\n",
        "        # Split data\n",
        "        X_test = X[test_start:test_end]\n",
        "        y_test = y[test_start:test_end]\n",
        "        X_train = np.concatenate([X[:test_start], X[test_end:]])\n",
        "        y_train = np.concatenate([y[:test_start], y[test_end:]])\n",
        "\n",
        "        # Train and evaluate\n",
        "        model = LogisticRegression(max_iter=200)\n",
        "        model.fit(X_train, y_train)\n",
        "        scores.append(model.score(X_test, y_test))\n",
        "\n",
        "    return scores\n",
        "\n",
        "# Run our simple implementation\n",
        "scores = simple_kfold_cv(X, y)\n",
        "print(f\"Scores for each fold: {[f'{score:.3f}' for score in scores]}\")\n",
        "print(f\"Average score: {np.mean(scores):.3f} ± {np.std(scores):.3f}\")"
      ],
      "metadata": {
        "id": "8kjJRWuG5qhd",
        "outputId": "ac7708ee-a47d-48d1-c45c-09fbfad46b0f",
        "colab": {
          "base_uri": "https://localhost:8080/"
        }
      },
      "execution_count": null,
      "outputs": [
        {
          "output_type": "stream",
          "name": "stdout",
          "text": [
            "Scores for each fold: ['1.000', '1.000', '0.867', '0.933', '0.833']\n",
            "Average score: 0.927 ± 0.068\n"
          ]
        }
      ]
    },
    {
      "cell_type": "markdown",
      "source": [
        "## Using scikit-learn's Cross-Validation Tools\n",
        "\n",
        "Scikit-learn provides robust implementations of cross-validation techniques. Let's look at different methods:"
      ],
      "metadata": {
        "id": "xgDXc9375tK3"
      }
    },
    {
      "cell_type": "code",
      "execution_count": null,
      "metadata": {
        "id": "WmWdA1kH3-Sj",
        "colab": {
          "base_uri": "https://localhost:8080/",
          "height": 582
        },
        "outputId": "d91c7257-07c2-41ae-d278-ff7bd46fcbd9"
      },
      "outputs": [
        {
          "output_type": "stream",
          "name": "stdout",
          "text": [
            "Cross-validation scores: ['0.967', '1.000', '0.933', '0.967', '1.000']\n",
            "Average CV score: 0.973 ± 0.025\n"
          ]
        },
        {
          "output_type": "display_data",
          "data": {
            "text/plain": [
              "<Figure size 1000x600 with 1 Axes>"
            ],
            "image/png": "[encoded data removed]"
          },
          "metadata": {}
        }
      ],
      "source": [
        "# Using cross_val_score\n",
        "cv_scores = cross_val_score(LogisticRegression(max_iter=200), X, y, cv=5)\n",
        "print(f\"Cross-validation scores: {[f'{score:.3f}' for score in cv_scores]}\")\n",
        "print(f\"Average CV score: {cv_scores.mean():.3f} ± {cv_scores.std():.3f}\")\n",
        "\n",
        "# Visualize the distribution of scores\n",
        "plt.figure(figsize=(10, 6))\n",
        "plt.boxplot(cv_scores)\n",
        "plt.title('Distribution of Cross-Validation Scores')\n",
        "plt.ylabel('Accuracy')\n",
        "plt.show()"
      ]
    },
    {
      "cell_type": "markdown",
      "source": [
        "## Different Types of Cross-Validation\n",
        "\n",
        "1. K-Fold Cross-Validation (as shown above)\n",
        "2. Stratified K-Fold (maintains class distribution)\n",
        "3. Leave-One-Out Cross-Validation\n",
        "4. Time Series Cross-Validation\n",
        "\n",
        "Let's compare Stratified K-Fold with regular K-Fold:"
      ],
      "metadata": {
        "id": "c1JuwvGL51uY"
      }
    },
    {
      "cell_type": "code",
      "source": [
        "from sklearn.model_selection import StratifiedKFold\n",
        "\n",
        "# Regular K-Fold\n",
        "kfold = KFold(n_splits=5, shuffle=True, random_state=42)\n",
        "kfold_scores = cross_val_score(LogisticRegression(max_iter=200), X, y, cv=kfold)\n",
        "\n",
        "# Stratified K-Fold\n",
        "skfold = StratifiedKFold(n_splits=5, shuffle=True, random_state=42)\n",
        "skfold_scores = cross_val_score(LogisticRegression(max_iter=200), X, y, cv=skfold)\n",
        "\n",
        "print(\"Regular K-Fold scores:\", [f'{score:.3f}' for score in kfold_scores])\n",
        "print(f\"Average: {kfold_scores.mean():.3f} ± {kfold_scores.std():.3f}\")\n",
        "print(\"\\nStratified K-Fold scores:\", [f'{score:.3f}' for score in skfold_scores])\n",
        "print(f\"Average: {skfold_scores.mean():.3f} ± {skfold_scores.std():.3f}\")"
      ],
      "metadata": {
        "id": "n480fRKs54IA",
        "outputId": "c8880ef0-dbe2-4f55-e726-6ab7b636b8cd",
        "colab": {
          "base_uri": "https://localhost:8080/"
        }
      },
      "execution_count": null,
      "outputs": [
        {
          "output_type": "stream",
          "name": "stdout",
          "text": [
            "Regular K-Fold scores: ['1.000', '1.000', '0.933', '0.967', '0.967']\n",
            "Average: 0.973 ± 0.025\n",
            "\n",
            "Stratified K-Fold scores: ['1.000', '0.967', '0.933', '1.000', '0.933']\n",
            "Average: 0.967 ± 0.030\n"
          ]
        }
      ]
    },
    {
      "cell_type": "markdown",
      "source": [
        "## Best Practices and Considerations\n",
        "\n",
        "1. Choose k based on dataset size (common values: 5 or 10)\n",
        "2. Use Stratified K-Fold for classification problems\n",
        "3. Consider computational costs\n",
        "4. Use random state for reproducibility\n",
        "5. Be aware of data leakage\n",
        "\n",
        "## Common Pitfalls to Avoid\n",
        "\n",
        "1. Data leakage during preprocessing\n",
        "2. Overfitting to the cross-validation results\n",
        "3. Not stratifying when necessary\n",
        "4. Using cross-validation scores for final model evaluation"
      ],
      "metadata": {
        "id": "6_k2svKy569Q"
      }
    },
    {
      "cell_type": "code",
      "source": [],
      "metadata": {
        "id": "rWGsD61j5vIZ"
      },
      "execution_count": null,
      "outputs": []
    }
  ]
}