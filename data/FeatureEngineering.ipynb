{
  "nbformat": 4,
  "nbformat_minor": 0,
  "metadata": {
    "colab": {
      "provenance": [],
      "authorship_tag": "ABX9TyMdUQsrOtCOCjpXbT2Dg5XG",
      "include_colab_link": true
    },
    "kernelspec": {
      "name": "python3",
      "display_name": "Python 3"
    },
    "language_info": {
      "name": "python"
    }
  },
  "cells": [
    {
      "cell_type": "markdown",
      "metadata": {
        "id": "view-in-github",
        "colab_type": "text"
      },
      "source": [
        "<a href=\"https://colab.research.google.com/github/calmrocks/master-machine-learning-engineer/blob/main/data/FeatureEngineering.ipynb\" target=\"_parent\"><img src=\"https://colab.research.google.com/assets/colab-badge.svg\" alt=\"Open In Colab\"/></a>"
      ]
    },
    {
      "cell_type": "markdown",
      "source": [
        "#### Feature Engineering with the Ames Housing Dataset\n",
        "\n",
        "Feature engineering is the process of transforming raw data into meaningful features that improve the predictive power of a model. This involves selecting, transforming, and creating new features to capture patterns in the data, ultimately leading to more accurate predictions. In this section, we will demonstrate key feature engineering techniques using the **Ames Housing dataset**, a popular dataset for predicting house prices.\n",
        "\n",
        "---\n",
        "\n",
        "##### Why Use the Ames Housing Dataset?\n",
        "\n",
        "The Ames Housing dataset is ideal for showcasing feature engineering due to its rich mix of numerical and categorical features. It includes data on various aspects of houses, such as their size, age, and neighborhood, making it a realistic dataset for regression tasks like predicting house prices.\n"
      ],
      "metadata": {
        "id": "A0Ijd6aQzUtw"
      }
    },
    {
      "cell_type": "markdown",
      "source": [
        "##### Loading the Ames Housing Dataset\n",
        "\n",
        "The Ames Housing dataset can be loaded using the `fetch_openml` method from `sklearn.datasets`.\n"
      ],
      "metadata": {
        "id": "Yr9vUVKdzcbo"
      }
    },
    {
      "cell_type": "code",
      "execution_count": 1,
      "metadata": {
        "id": "Ax4baTsGvU2k",
        "outputId": "ae6a489e-3848-448b-989a-2d82d5437544",
        "colab": {
          "base_uri": "https://localhost:8080/"
        }
      },
      "outputs": [
        {
          "output_type": "stream",
          "name": "stdout",
          "text": [
            "   Id  MSSubClass MSZoning  LotFrontage  LotArea Street Alley LotShape  \\\n",
            "0   1          60       RL         65.0     8450   Pave   NaN      Reg   \n",
            "1   2          20       RL         80.0     9600   Pave   NaN      Reg   \n",
            "2   3          60       RL         68.0    11250   Pave   NaN      IR1   \n",
            "3   4          70       RL         60.0     9550   Pave   NaN      IR1   \n",
            "4   5          60       RL         84.0    14260   Pave   NaN      IR1   \n",
            "\n",
            "  LandContour Utilities  ... PoolArea PoolQC Fence MiscFeature MiscVal MoSold  \\\n",
            "0         Lvl    AllPub  ...        0    NaN   NaN         NaN       0      2   \n",
            "1         Lvl    AllPub  ...        0    NaN   NaN         NaN       0      5   \n",
            "2         Lvl    AllPub  ...        0    NaN   NaN         NaN       0      9   \n",
            "3         Lvl    AllPub  ...        0    NaN   NaN         NaN       0      2   \n",
            "4         Lvl    AllPub  ...        0    NaN   NaN         NaN       0     12   \n",
            "\n",
            "  YrSold  SaleType  SaleCondition  SalePrice  \n",
            "0   2008        WD         Normal     208500  \n",
            "1   2007        WD         Normal     181500  \n",
            "2   2008        WD         Normal     223500  \n",
            "3   2006        WD        Abnorml     140000  \n",
            "4   2008        WD         Normal     250000  \n",
            "\n",
            "[5 rows x 81 columns]\n"
          ]
        }
      ],
      "source": [
        "from sklearn.datasets import fetch_openml\n",
        "import pandas as pd\n",
        "\n",
        "# Load the Ames Housing dataset\n",
        "data = fetch_openml(name=\"house_prices\", as_frame=True)\n",
        "housing = data.frame\n",
        "\n",
        "# Display the first few rows\n",
        "print(housing.head())"
      ]
    },
    {
      "cell_type": "markdown",
      "source": [
        "### 1. Normalization and Scaling\n",
        "\n",
        "Scaling numerical features ensures that all features are on the same scale, which is critical for many machine learning models.\n",
        "\n",
        "- **Normalization**: Scale features to a range, typically [0, 1].\n",
        "- **Standardization**: Centers the data around zero with a standard deviation of one.\n"
      ],
      "metadata": {
        "id": "urnqLGnVz14I"
      }
    },
    {
      "cell_type": "code",
      "source": [
        "from sklearn.preprocessing import MinMaxScaler, StandardScaler\n",
        "\n",
        "# Select numerical features\n",
        "numerical_features = ['LotArea', 'GrLivArea', 'TotalBsmtSF']\n",
        "\n",
        "# Apply Min-Max Scaling\n",
        "scaler = MinMaxScaler()\n",
        "housing[numerical_features] = scaler.fit_transform(housing[numerical_features])\n",
        "\n",
        "print(housing[numerical_features].head())"
      ],
      "metadata": {
        "id": "HOLOF827zgyx",
        "outputId": "89f89c69-8efe-43f9-c915-2622c41cec50",
        "colab": {
          "base_uri": "https://localhost:8080/"
        }
      },
      "execution_count": 2,
      "outputs": [
        {
          "output_type": "stream",
          "name": "stdout",
          "text": [
            "    LotArea  GrLivArea  TotalBsmtSF\n",
            "0  0.033420   0.259231     0.140098\n",
            "1  0.038795   0.174830     0.206547\n",
            "2  0.046507   0.273549     0.150573\n",
            "3  0.038561   0.260550     0.123732\n",
            "4  0.060576   0.351168     0.187398\n"
          ]
        }
      ]
    },
    {
      "cell_type": "markdown",
      "source": [
        "### 2. Encoding Categorical Variables\n",
        "\n",
        "Categorical features like `Neighborhood` and `HouseStyle` need to be converted into numerical formats for machine learning models.\n",
        "\n",
        "- **One-Hot Encoding**: Converts each category into a binary column.\n",
        "- **Target Encoding**: Encodes categories based on their mean target value.\n"
      ],
      "metadata": {
        "id": "9ISvJbM5z-SJ"
      }
    },
    {
      "cell_type": "code",
      "source": [
        "from sklearn.preprocessing import OneHotEncoder\n",
        "\n",
        "# One-hot encode categorical features\n",
        "categorical_features = ['Neighborhood', 'HouseStyle']\n",
        "encoder = OneHotEncoder(sparse_output=False, drop='first')\n",
        "encoded_features = pd.DataFrame(encoder.fit_transform(housing[categorical_features]),\n",
        "                                columns=encoder.get_feature_names_out(categorical_features))\n",
        "\n",
        "# Concatenate the encoded features with the dataset\n",
        "housing = pd.concat([housing, encoded_features], axis=1)\n",
        "\n",
        "# Drop the original categorical columns\n",
        "housing = housing.drop(columns=categorical_features)\n",
        "\n",
        "print(housing.head())"
      ],
      "metadata": {
        "id": "XYuxcGq7z7p2",
        "outputId": "65801127-627a-49d0-8b1e-a21d34d38a16",
        "colab": {
          "base_uri": "https://localhost:8080/"
        }
      },
      "execution_count": 4,
      "outputs": [
        {
          "output_type": "stream",
          "name": "stdout",
          "text": [
            "   Id  MSSubClass MSZoning  LotFrontage   LotArea Street Alley LotShape  \\\n",
            "0   1          60       RL         65.0  0.033420   Pave   NaN      Reg   \n",
            "1   2          20       RL         80.0  0.038795   Pave   NaN      Reg   \n",
            "2   3          60       RL         68.0  0.046507   Pave   NaN      IR1   \n",
            "3   4          70       RL         60.0  0.038561   Pave   NaN      IR1   \n",
            "4   5          60       RL         84.0  0.060576   Pave   NaN      IR1   \n",
            "\n",
            "  LandContour Utilities  ... Neighborhood_StoneBr Neighborhood_Timber  \\\n",
            "0         Lvl    AllPub  ...                  0.0                 0.0   \n",
            "1         Lvl    AllPub  ...                  0.0                 0.0   \n",
            "2         Lvl    AllPub  ...                  0.0                 0.0   \n",
            "3         Lvl    AllPub  ...                  0.0                 0.0   \n",
            "4         Lvl    AllPub  ...                  0.0                 0.0   \n",
            "\n",
            "  Neighborhood_Veenker HouseStyle_1.5Unf HouseStyle_1Story  HouseStyle_2.5Fin  \\\n",
            "0                  0.0               0.0               0.0                0.0   \n",
            "1                  1.0               0.0               1.0                0.0   \n",
            "2                  0.0               0.0               0.0                0.0   \n",
            "3                  0.0               0.0               0.0                0.0   \n",
            "4                  0.0               0.0               0.0                0.0   \n",
            "\n",
            "   HouseStyle_2.5Unf  HouseStyle_2Story  HouseStyle_SFoyer HouseStyle_SLvl  \n",
            "0                0.0                1.0                0.0             0.0  \n",
            "1                0.0                0.0                0.0             0.0  \n",
            "2                0.0                1.0                0.0             0.0  \n",
            "3                0.0                1.0                0.0             0.0  \n",
            "4                0.0                1.0                0.0             0.0  \n",
            "\n",
            "[5 rows x 110 columns]\n"
          ]
        }
      ]
    },
    {
      "cell_type": "markdown",
      "source": [
        "#### 3. Creating Interaction Terms\n",
        "\n",
        "Interaction terms capture relationships between two or more features.\n"
      ],
      "metadata": {
        "id": "Sy1KjAJl0SmF"
      }
    },
    {
      "cell_type": "code",
      "source": [
        "housing['OverallQual_GrLivArea'] = housing['OverallQual'] * housing['GrLivArea']\n",
        "housing['YearBuilt_Age'] = housing['YrSold'] - housing['YearBuilt']\n",
        "\n",
        "print(housing[['OverallQual_GrLivArea', 'YearBuilt_Age']].head())"
      ],
      "metadata": {
        "id": "qZFZlh-O0B6m",
        "outputId": "b91971fa-9daa-4923-a5e7-ca48be98936e",
        "colab": {
          "base_uri": "https://localhost:8080/"
        }
      },
      "execution_count": 5,
      "outputs": [
        {
          "output_type": "stream",
          "name": "stdout",
          "text": [
            "   OverallQual_GrLivArea  YearBuilt_Age\n",
            "0               1.814619              5\n",
            "1               1.048983             31\n",
            "2               1.914846              7\n",
            "3               1.823851             91\n",
            "4               2.809344              8\n"
          ]
        }
      ]
    },
    {
      "cell_type": "markdown",
      "source": [
        "### 4. Polynomial Features\n",
        "\n",
        "Polynomial transformation helps capture non-linear relationships by creating squared or higher-order terms for numerical features.\n"
      ],
      "metadata": {
        "id": "fzawH6S20Wbn"
      }
    },
    {
      "cell_type": "code",
      "source": [
        "from sklearn.preprocessing import PolynomialFeatures\n",
        "\n",
        "# Apply polynomial transformation\n",
        "poly = PolynomialFeatures(degree=2, include_bias=False)\n",
        "poly_features = poly.fit_transform(housing[['GrLivArea']])\n",
        "\n",
        "# Convert to DataFrame and add to dataset\n",
        "poly_features_df = pd.DataFrame(poly_features, columns=['GrLivArea', 'GrLivArea^2'])\n",
        "housing = pd.concat([housing, poly_features_df], axis=1)\n",
        "\n",
        "print(housing[['GrLivArea', 'GrLivArea^2']].head())"
      ],
      "metadata": {
        "id": "uw4UcWu70Umf",
        "outputId": "b99c2c12-bb61-4eb6-c903-7f4dd26512a9",
        "colab": {
          "base_uri": "https://localhost:8080/"
        }
      },
      "execution_count": 6,
      "outputs": [
        {
          "output_type": "stream",
          "name": "stdout",
          "text": [
            "   GrLivArea  GrLivArea  GrLivArea^2\n",
            "0   0.259231   0.259231     0.067201\n",
            "1   0.174830   0.174830     0.030566\n",
            "2   0.273549   0.273549     0.074829\n",
            "3   0.260550   0.260550     0.067886\n",
            "4   0.351168   0.351168     0.123319\n"
          ]
        }
      ]
    },
    {
      "cell_type": "markdown",
      "source": [
        "### 5. Binning\n",
        "\n",
        "Binning groups continuous values into discrete intervals, reducing model complexity and noise.\n"
      ],
      "metadata": {
        "id": "Fk1Dbqj90dgG"
      }
    },
    {
      "cell_type": "code",
      "source": [
        "# Bin LotArea into discrete categories\n",
        "housing['LotArea_Bin'] = pd.cut(housing['LotArea'], bins=4, labels=['Small', 'Medium', 'Large', 'Very Large'])\n",
        "\n",
        "print(housing['LotArea_Bin'].value_counts())"
      ],
      "metadata": {
        "id": "rFNvtiEj0Zve",
        "outputId": "aace0fe4-1146-4cce-c464-c6ec859c196a",
        "colab": {
          "base_uri": "https://localhost:8080/"
        }
      },
      "execution_count": 8,
      "outputs": [
        {
          "output_type": "stream",
          "name": "stdout",
          "text": [
            "LotArea_Bin\n",
            "Small         1453\n",
            "Medium           3\n",
            "Large            2\n",
            "Very Large       2\n",
            "Name: count, dtype: int64\n"
          ]
        }
      ]
    },
    {
      "cell_type": "markdown",
      "source": [
        "### 6. Log Transformation\n",
        "\n",
        "Log transformation reduces skewness in features with heavy-tailed distributions.\n"
      ],
      "metadata": {
        "id": "_NIW0Gub0hc9"
      }
    },
    {
      "cell_type": "code",
      "source": [
        "import numpy as np\n",
        "\n",
        "# Apply log transformation to the SalePrice column\n",
        "housing['Log_SalePrice'] = np.log(housing['SalePrice'])\n",
        "\n",
        "print(housing[['SalePrice', 'Log_SalePrice']].head())"
      ],
      "metadata": {
        "id": "vSggCyCD0cCO",
        "outputId": "f256576f-2d35-443a-9cbd-3d8a43e69e42",
        "colab": {
          "base_uri": "https://localhost:8080/"
        }
      },
      "execution_count": 9,
      "outputs": [
        {
          "output_type": "stream",
          "name": "stdout",
          "text": [
            "   SalePrice  Log_SalePrice\n",
            "0     208500      12.247694\n",
            "1     181500      12.109011\n",
            "2     223500      12.317167\n",
            "3     140000      11.849398\n",
            "4     250000      12.429216\n"
          ]
        }
      ]
    },
    {
      "cell_type": "markdown",
      "source": [
        "### 7. Time-Based Features\n",
        "\n",
        "Extract time-related features from columns like `YrSold` to capture time-based patterns.\n"
      ],
      "metadata": {
        "id": "LCGOmQCN0mO-"
      }
    },
    {
      "cell_type": "code",
      "source": [
        "# Extract year and season features\n",
        "housing['SoldYear'] = housing['YrSold']\n",
        "housing['SoldSeason'] = pd.cut(housing['MoSold'], bins=[0, 3, 6, 9, 12], labels=['Winter', 'Spring', 'Summer', 'Fall'])\n",
        "\n",
        "print(housing[['SoldYear', 'SoldSeason']].head())"
      ],
      "metadata": {
        "id": "7k1dd0J80jwj",
        "outputId": "7d0d65ba-fa0c-492e-cfc2-a921c68b6354",
        "colab": {
          "base_uri": "https://localhost:8080/"
        }
      },
      "execution_count": 10,
      "outputs": [
        {
          "output_type": "stream",
          "name": "stdout",
          "text": [
            "   SoldYear SoldSeason\n",
            "0      2008     Winter\n",
            "1      2007     Spring\n",
            "2      2008     Summer\n",
            "3      2006     Winter\n",
            "4      2008       Fall\n"
          ]
        }
      ]
    },
    {
      "cell_type": "code",
      "source": [],
      "metadata": {
        "id": "RpaVMxPr0oLt"
      },
      "execution_count": null,
      "outputs": []
    }
  ]
}