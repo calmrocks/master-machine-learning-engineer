{
  "nbformat": 4,
  "nbformat_minor": 0,
  "metadata": {
    "colab": {
      "provenance": [],
      "authorship_tag": "ABX9TyOCa5VbvbbVTHxE1wY1T5p2",
      "include_colab_link": true
    },
    "kernelspec": {
      "name": "python3",
      "display_name": "Python 3"
    },
    "language_info": {
      "name": "python"
    }
  },
  "cells": [
    {
      "cell_type": "markdown",
      "metadata": {
        "id": "view-in-github",
        "colab_type": "text"
      },
      "source": [
        "<a href=\"https://colab.research.google.com/github/calmrocks/master-machine-learning-engineer/blob/main/fundmental/PythonBasicc.ipynb\" target=\"_parent\"><img src=\"https://colab.research.google.com/assets/colab-badge.svg\" alt=\"Open In Colab\"/></a>"
      ]
    },
    {
      "cell_type": "markdown",
      "metadata": {
        "id": "intro-section"
      },
      "source": [
        "# Classification Case Study: Breast Cancer Diagnosis\n",
        "\n",
        "## Overview\n",
        "This notebook demonstrates binary classification using the Breast Cancer Wisconsin dataset. We'll follow a structured approach:\n",
        "\n",
        "1. Data Preparation\n",
        "2. Feature Analysis\n",
        "3. Data Preprocessing\n",
        "4. Model Implementation\n",
        "   - Logistic Regression\n",
        "   - Support Vector Machine\n",
        "   - Random Forest\n",
        "5. Model Comparison and Evaluation\n",
        "6. Cross-Validation\n",
        "7. Advanced Visualization\n",
        "8. Hyperparameter Tuning\n",
        "9. Model Explanation\n",
        "\n",
        "## Dataset Characteristics\n",
        "- Features: 30 numeric features from cell nucleus images\n",
        "- Target: Diagnosis (Malignant/Benign)\n",
        "- Samples: 569 cases\n",
        "- Type: Balanced binary classification"
      ]
    },
    {
      "cell_type": "code",
      "execution_count": null,
      "metadata": {
        "id": "import-section"
      },
      "outputs": [],
      "source": [
        "# Import required libraries\n",
        "import pandas as pd\n",
        "import numpy as np\n",
        "import matplotlib.pyplot as plt\n",
        "import seaborn as sns\n",
        "from sklearn.datasets import load_breast_cancer\n",
        "\n",
        "# Set plotting style\n",
        "plt.style.use('seaborn')\n",
        "sns.set_theme()\n",
        "\n",
        "# Suppress warnings\n",
        "import warnings\n",
        "warnings.filterwarnings('ignore')"
      ]
    },
    {
      "cell_type": "markdown",
      "metadata": {
        "id": "data-prep-section"
      },
      "source": [
        "## 1. Data Preparation\n",
        "\n",
        "First, we'll load the dataset and perform initial exploration to understand its structure and characteristics.\n",
        "Key steps include:\n",
        "- Loading the dataset\n",
        "- Checking basic statistics\n",
        "- Examining class distribution\n",
        "- Checking for missing values"
      ]
    },
    {
      "cell_type": "code",
      "execution_count": null,
      "metadata": {
        "id": "data-loading"
      },
      "outputs": [],
      "source": [
        "# Load the data\n",
        "data = load_breast_cancer()\n",
        "df = pd.DataFrame(data.data, columns=data.feature_names)\n",
        "df['target'] = data.target\n",
        "\n",
        "# Display basic information\n",
        "print(\"Dataset Shape:\", df.shape)\n",
        "print(\"\\nFeature Names:\")\n",
        "print(df.columns.tolist())\n",
        "\n",
        "# Display basic statistics\n",
        "print(\"\\nBasic Statistics:\")\n",
        "print(df.describe())"
      ]
    },
    {
      "cell_type": "code",
      "execution_count": null,
      "metadata": {
        "id": "class-distribution"
      },
      "outputs": [],
      "source": [
        "# Check class distribution\n",
        "print(\"Class Distribution:\")\n",
        "class_dist = df['target'].value_counts(normalize=True)\n",
        "print(class_dist)\n",
        "\n",
        "# Visualize class distribution\n",
        "plt.figure(figsize=(8, 6))\n",
        "sns.countplot(data=df, x='target')\n",
        "plt.title('Class Distribution (0: Malignant, 1: Benign)')\n",
        "plt.xlabel('Target Class')\n",
        "plt.ylabel('Count')\n",
        "plt.show()\n",
        "\n",
        "# Check for missing values\n",
        "print(\"\\nMissing Values:\")\n",
        "print(df.isnull().sum().any())"
      ]
    },
    {
      "cell_type": "markdown",
      "metadata": {
        "id": "feature-analysis-section"
      },
      "source": [
        "## 2. Feature Analysis\n",
        "\n",
        "Now we'll analyze the features to understand their distributions and relationships.\n",
        "We'll focus on:\n",
        "- Feature distributions\n",
        "- Correlation analysis\n",
        "- Feature relationships with target variable"
      ]
    },
    {
      "cell_type": "code",
      "execution_count": null,
      "metadata": {
        "id": "feature-distribution"
      },
      "outputs": [],
      "source": [
        "# Select mean features for initial analysis\n",
        "mean_features = [col for col in df.columns if 'mean' in col]\n",
        "\n",
        "# Create boxplots for mean features\n",
        "plt.figure(figsize=(15, 8))\n",
        "df_melted = df[mean_features + ['target']].melt(id_vars='target')\n",
        "sns.boxplot(data=df_melted, x='variable', y='value', hue='target')\n",
        "plt.xticks(rotation=45)\n",
        "plt.title('Feature Distribution by Diagnosis')\n",
        "plt.tight_layout()\n",
        "plt.show()"
      ]
    },
    {
      "cell_type": "code",
      "execution_count": null,
      "metadata": {
        "id": "correlation-analysis"
      },
      "outputs": [],
      "source": [
        "# Correlation matrix\n",
        "plt.figure(figsize=(12, 8))\n",
        "correlation = df[mean_features].corr()\n",
        "sns.heatmap(correlation, annot=True, cmap='coolwarm', center=0)\n",
        "plt.title('Feature Correlation Matrix')\n",
        "plt.tight_layout()\n",
        "plt.show()\n",
        "\n",
        "# Pair plot for key features\n",
        "key_features = ['mean radius', 'mean texture', 'mean perimeter', 'mean area']\n",
        "sns.pairplot(df[key_features + ['target']], hue='target')\n",
        "plt.show()"
      ]
    },
    {
      "cell_type": "markdown",
      "metadata": {
        "id": "preprocessing-section"
      },
      "source": [
        "## 3. Data Preprocessing\n",
        "\n",
        "Before training our models, we need to:\n",
        "- Scale the features\n",
        "- Split the data into training and testing sets\n",
        "- Prepare the data for model training"
      ]
    },
    {
      "cell_type": "code",
      "execution_count": null,
      "metadata": {
        "id": "data-preprocessing"
      },
      "outputs": [],
      "source": [
        "from sklearn.model_selection import train_test_split\n",
        "from sklearn.preprocessing import StandardScaler\n",
        "\n",
        "# Separate features and target\n",
        "X = df.drop('target', axis=1)\n",
        "y = df['target']\n",
        "\n",
        "# Scale the features\n",
        "scaler = StandardScaler()\n",
        "X_scaled = scaler.fit_transform(X)\n",
        "\n",
        "# Split the data\n",
        "X_train, X_test, y_train, y_test = train_test_split(\n",
        "    X_scaled, y, test_size=0.2, random_state=42, stratify=y\n",
        ")\n",
        "\n",
        "print(\"Training set shape:\", X_train.shape)\n",
        "print(\"Testing set shape:\", X_test.shape)"
      ]
    },
    {
      "cell_type": "markdown",
      "metadata": {
        "id": "model-implementation-section"
      },
      "source": [
        "## 4. Model Implementation\n",
        "\n",
        "We'll implement three different classification models:\n",
        "1. Logistic Regression - A linear model for binary classification\n",
        "2. Support Vector Machine - A powerful algorithm for finding decision boundaries\n",
        "3. Random Forest - An ensemble method using multiple decision trees\n",
        "\n",
        "For each model, we'll:\n",
        "- Train the model\n",
        "- Make predictions\n",
        "- Evaluate performance\n",
        "- Analyze feature importance (where applicable)"
      ]
    },
    {
      "cell_type": "markdown",
      "metadata": {
        "id": "logistic-regression-section"
      },
      "source": [
        "### 4.1 Logistic Regression\n",
        "\n",
        "Logistic Regression is a good baseline model for binary classification. It's:\n",
        "- Simple to implement\n",
        "- Highly interpretable\n",
        "- Provides feature importance through coefficients"
      ]
    },
    {
      "cell_type": "code",
      "execution_count": null,
      "metadata": {
        "id": "logistic-regression-implementation"
      },
      "outputs": [],
      "source": [
        "from sklearn.linear_model import LogisticRegression\n",
        "from sklearn.metrics import classification_report, confusion_matrix\n",
        "\n",
        "# Train logistic regression\n",
        "lr_model = LogisticRegression()\n",
        "lr_model.fit(X_train, y_train)\n",
        "\n",
        "# Make predictions\n",
        "lr_pred = lr_model.predict(X_test)\n",
        "\n",
        "# Print results\n",
        "print(\"Logistic Regression Results:\")\n",
        "print(\"\\nConfusion Matrix:\")\n",
        "print(confusion_matrix(y_test, lr_pred))\n",
        "print(\"\\nClassification Report:\")\n",
        "print(classification_report(y_test, lr_pred))"
      ]
    },
    {
      "cell_type": "code",
      "execution_count": null,
      "metadata": {
        "id": "logistic-regression-feature-importance"
      },
      "outputs": [],
      "source": [
        "# Analyze feature importance\n",
        "feature_importance = pd.DataFrame({\n",
        "    'feature': X.columns,\n",
        "    'coefficient': abs(lr_model.coef_[0])\n",
        "}).sort_values('coefficient', ascending=False)\n",
        "\n",
        "plt.figure(figsize=(10, 6))\n",
        "sns.barplot(data=feature_importance.head(10), x='coefficient', y='feature')\n",
        "plt.title('Top 10 Most Important Features (Logistic Regression)')\n",
        "plt.tight_layout()\n",
        "plt.show()"
      ]
    },
    {
      "cell_type": "markdown",
      "metadata": {
        "id": "svm-section"
      },
      "source": [
        "### 4.2 Support Vector Machine\n",
        "\n",
        "Support Vector Machine (SVM) is effective for:\n",
        "- High-dimensional spaces\n",
        "- Complex decision boundaries\n",
        "- Cases where margin of separation is important"
      ]
    },
    {
      "cell_type": "code",
      "execution_count": null,
      "metadata": {
        "id": "svm-implementation"
      },
      "outputs": [],
      "source": [
        "from sklearn.svm import SVC\n",
        "\n",
        "# Train SVM\n",
        "svm_model = SVC(kernel='rbf', probability=True)\n",
        "svm_model.fit(X_train, y_train)\n",
        "\n",
        "# Make predictions\n",
        "svm_pred = svm_model.predict(X_test)\n",
        "\n",
        "# Print results\n",
        "print(\"SVM Results:\")\n",
        "print(\"\\nConfusion Matrix:\")\n",
        "print(confusion_matrix(y_test, svm_pred))\n",
        "print(\"\\nClassification Report:\")\n",
        "print(classification_report(y_test, svm_pred))"
      ]
    },
    {
      "cell_type": "markdown",
      "metadata": {
        "id": "random-forest-section"
      },
      "source": [
        "### 4.3 Random Forest\n",
        "\n",
        "Random Forest is an ensemble method that:\n",
        "- Combines multiple decision trees\n",
        "- Reduces overfitting\n",
        "- Provides feature importance scores\n",
        "- Handles non-linear relationships well"
      ]
    },
    {
      "cell_type": "code",
      "execution_count": null,
      "metadata": {
        "id": "random-forest-implementation"
      },
      "outputs": [],
      "source": [
        "from sklearn.ensemble import RandomForestClassifier\n",
        "\n",
        "# Train random forest\n",
        "rf_model = RandomForestClassifier(n_estimators=100, random_state=42)\n",
        "rf_model.fit(X_train, y_train)\n",
        "\n",
        "# Make predictions\n",
        "rf_pred = rf_model.predict(X_test)\n",
        "\n",
        "# Print results\n",
        "print(\"Random Forest Results:\")\n",
        "print(\"\\nConfusion Matrix:\")\n",
        "print(confusion_matrix(y_test, rf_pred))\n",
        "print(\"\\nClassification Report:\")\n",
        "print(classification_report(y_test, rf_pred))"
      ]
    },
    {
      "cell_type": "code",
      "execution_count": null,
      "metadata": {
        "id": "random-forest-feature-importance"
      },
      "outputs": [],
      "source": [
        "# Analyze feature importance\n",
        "feature_importance_rf = pd.DataFrame({\n",
        "    'feature': X.columns,\n",
        "    'importance': rf_model.feature_importances_\n",
        "}).sort_values('importance', ascending=False)\n",
        "\n",
        "plt.figure(figsize=(10, 6))\n",
        "sns.barplot(data=feature_importance_rf.head(10), x='importance', y='feature')\n",
        "plt.title('Top 10 Most Important Features (Random Forest)')\n",
        "plt.tight_layout()\n",
        "plt.show()"
      ]
    },
    {
      "cell_type": "markdown",
      "metadata": {
        "id": "model-implementation-summary"
      },
      "source": [
        "### Model Implementation Summary\n",
        "\n",
        "We've implemented three different models:\n",
        "1. **Logistic Regression**\n",
        "   - Linear decision boundary\n",
        "   - Interpretable coefficients\n",
        "   - Fast training and prediction\n",
        "\n",
        "2. **Support Vector Machine**\n",
        "   - Non-linear decision boundary (RBF kernel)\n",
        "   - Good for complex relationships\n",
        "   - Requires careful parameter tuning\n",
        "\n",
        "3. **Random Forest**\n",
        "   - Ensemble method\n",
        "   - Feature importance scores\n",
        "   - Handles non-linear relationships\n",
        "\n",
        "Next, we'll compare these models' performance and conduct more detailed evaluations."
      ]
    },
    {
      "cell_type": "markdown",
      "metadata": {
        "id": "model-comparison-section"
      },
      "source": [
        "## 5. Model Comparison and Evaluation\n",
        "\n",
        "We'll compare our models using several metrics:\n",
        "1. ROC Curves and AUC scores\n",
        "2. Precision-Recall curves\n",
        "3. Performance metrics comparison\n",
        "4. Prediction probabilities distribution"
      ]
    },
    {
      "cell_type": "code",
      "execution_count": null,
      "metadata": {
        "id": "roc-curves"
      },
      "outputs": [],
      "source": [
        "from sklearn.metrics import roc_curve, auc, precision_recall_curve\n",
        "\n",
        "# Store models in dictionary\n",
        "models = {\n",
        "    'Logistic Regression': lr_model,\n",
        "    'SVM': svm_model,\n",
        "    'Random Forest': rf_model\n",
        "}\n",
        "\n",
        "# Plot ROC curves\n",
        "plt.figure(figsize=(10, 8))\n",
        "for name, model in models.items():\n",
        "    y_pred_proba = model.predict_proba(X_test)[:, 1]\n",
        "    fpr, tpr, _ = roc_curve(y_test, y_pred_proba)\n",
        "    roc_auc = auc(fpr, tpr)\n",
        "    plt.plot(fpr, tpr, label=f'{name} (AUC = {roc_auc:.2f})')\n",
        "\n",
        "plt.plot([0, 1], [0, 1], 'k--')\n",
        "plt.xlabel('False Positive Rate')\n",
        "plt.ylabel('True Positive Rate')\n",
        "plt.title('ROC Curves Comparison')\n",
        "plt.legend()\n",
        "plt.grid(True)\n",
        "plt.show()"
      ]
    },
    {
      "cell_type": "code",
      "execution_count": null,
      "metadata": {
        "id": "precision-recall-curves"
      },
      "outputs": [],
      "source": [
        "# Plot Precision-Recall curves\n",
        "plt.figure(figsize=(10, 8))\n",
        "for name, model in models.items():\n",
        "    y_pred_proba = model.predict_proba(X_test)[:, 1]\n",
        "    precision, recall, _ = precision_recall_curve(y_test, y_pred_proba)\n",
        "    plt.plot(recall, precision, label=f'{name}')\n",
        "\n",
        "plt.xlabel('Recall')\n",
        "plt.ylabel('Precision')\n",
        "plt.title('Precision-Recall Curves Comparison')\n",
        "plt.legend()\n",
        "plt.grid(True)\n",
        "plt.show()"
      ]
    },
    {
      "cell_type": "code",
      "execution_count": null,
      "metadata": {
        "id": "performance-metrics"
      },
      "outputs": [],
      "source": [
        "from sklearn.metrics import accuracy_score, precision_score, recall_score, f1_score\n",
        "\n",
        "# Calculate performance metrics for each model\n",
        "metrics_dict = {\n",
        "    'Model': [],\n",
        "    'Accuracy': [],\n",
        "    'Precision': [],\n",
        "    'Recall': [],\n",
        "    'F1 Score': []\n",
        "}\n",
        "\n",
        "for name, model in models.items():\n",
        "    y_pred = model.predict(X_test)\n",
        "    metrics_dict['Model'].append(name)\n",
        "    metrics_dict['Accuracy'].append(accuracy_score(y_test, y_pred))\n",
        "    metrics_dict['Precision'].append(precision_score(y_test, y_pred))\n",
        "    metrics_dict['Recall'].append(recall_score(y_test, y_pred))\n",
        "    metrics_dict['F1 Score'].append(f1_score(y_test, y_pred))\n",
        "\n",
        "metrics_df = pd.DataFrame(metrics_dict)\n",
        "print(\"Performance Metrics Comparison:\")\n",
        "print(metrics_df.round(3))"
      ]
    },
    {
      "cell_type": "code",
      "execution_count": null,
      "metadata": {
        "id": "prediction-probabilities"
      },
      "outputs": [],
      "source": [
        "# Visualize prediction probabilities\n",
        "plt.figure(figsize=(15, 5))\n",
        "\n",
        "for i, (name, model) in enumerate(models.items(), 1):\n",
        "    plt.subplot(1, 3, i)\n",
        "    probabilities = model.predict_proba(X_test)[:, 1]\n",
        "    \n",
        "    # Plot distributions for each class\n",
        "    sns.histplot(data=pd.DataFrame({\n",
        "        'Probability': probabilities,\n",
        "        'True Class': y_test\n",
        "    }), x='Probability', hue='True Class', bins=20)\n",
        "    \n",
        "    plt.title(f'{name}\\nPrediction Probabilities')\n",
        "    plt.xlabel('Probability of Positive Class')\n",
        "    \n",
        "plt.tight_layout()\n",
        "plt.show()"
      ]
    },
    {
      "cell_type": "markdown",
      "metadata": {
        "id": "model-comparison-summary"
      },
      "source": [
        "### Model Comparison Summary\n",
        "\n",
        "Based on our evaluation:\n",
        "\n",
        "1. **ROC Curves and AUC**\n",
        "   - Higher AUC indicates better model discrimination\n",
        "   - Curves above diagonal show better than random performance\n",
        "\n",
        "2. **Precision-Recall Curves**\n",
        "   - Shows trade-off between precision and recall\n",
        "   - Higher curves indicate better performance\n",
        "\n",
        "3. **Performance Metrics**\n",
        "   - Accuracy: Overall correct predictions\n",
        "   - Precision: Accuracy of positive predictions\n",
        "   - Recall: Ability to find all positive cases\n",
        "   - F1 Score: Balance between precision and recall\n",
        "\n",
        "4. **Probability Distributions**\n",
        "   - Shows model confidence in predictions\n",
        "   - Clear separation indicates good discrimination\n",
        "   - Overlapping indicates uncertainty regions\n",
        "\n",
        "**Key Findings:**\n",
        "1. Random Forest shows the best overall performance\n",
        "2. All models perform significantly better than random\n",
        "3. Models show different strengths in precision vs recall trade-off"
      ]
    },
    {
      "cell_type": "markdown",
      "metadata": {
        "id": "cross-validation-section"
      },
      "source": [
        "## 6. Cross-Validation\n",
        "\n",
        "Cross-validation helps us:\n",
        "1. Assess model stability\n",
        "2. Detect overfitting\n",
        "3. Evaluate model performance more robustly\n",
        "\n",
        "We'll perform:\n",
        "- K-fold cross-validation\n",
        "- Stratified K-fold (to maintain class distribution)\n",
        "- Performance metrics across folds"
      ]
    },
    {
      "cell_type": "code",
      "execution_count": null,
      "metadata": {
        "id": "basic-cross-validation"
      },
      "outputs": [],
      "source": [
        "from sklearn.model_selection import cross_val_score, KFold, StratifiedKFold\n",
        "\n",
        "# Perform 5-fold cross-validation for each model\n",
        "cv_results = {}\n",
        "for name, model in models.items():\n",
        "    scores = cross_val_score(model, X_scaled, y, cv=5, scoring='accuracy')\n",
        "    cv_results[name] = scores\n",
        "    print(f\"{name} CV Accuracy: {scores.mean():.3f} (+/- {scores.std() * 2:.3f})\")\n",
        "\n",
        "# Visualize cross-validation results\n",
        "plt.figure(figsize=(10, 6))\n",
        "plt.boxplot([cv_results[name] for name in models.keys()], labels=models.keys())\n",
        "plt.title('Cross-Validation Accuracy Scores')\n",
        "plt.ylabel('Accuracy')\n",
        "plt.grid(True)\n",
        "plt.show()"
      ]
    },
    {
      "cell_type": "code",
      "execution_count": null,
      "metadata": {
        "id": "stratified-cross-validation"
      },
      "outputs": [],
      "source": [
        "# Perform stratified k-fold cross-validation with multiple metrics\n",
        "from sklearn.metrics import make_scorer, precision_score, recall_score, f1_score\n",
        "\n",
        "# Define scoring metrics\n",
        "scoring = {\n",
        "    'accuracy': 'accuracy',\n",
        "    'precision': make_scorer(precision_score),\n",
        "    'recall': make_scorer(recall_score),\n",
        "    'f1': make_scorer(f1_score)\n",
        "}\n",
        "\n",
        "# Initialize StratifiedKFold\n",
        "skf = StratifiedKFold(n_splits=5, shuffle=True, random_state=42)\n",
        "\n",
        "# Store results for each model\n",
        "detailed_cv_results = {}\n",
        "\n",
        "for name, model in models.items():\n",
        "    fold_results = {\n",
        "        'accuracy': [],\n",
        "        'precision': [],\n",
        "        'recall': [],\n",
        "        'f1': []\n",
        "    }\n",
        "    \n",
        "    # Perform cross-validation\n",
        "    for train_idx, val_idx in skf.split(X_scaled, y):\n",
        "        X_train_fold = X_scaled[train_idx]\n",
        "        X_val_fold = X_scaled[val_idx]\n",
        "        y_train_fold = y[train_idx]\n",
        "        y_val_fold = y[val_idx]\n",
        "        \n",
        "        # Train and predict\n",
        "        model.fit(X_train_fold, y_train_fold)\n",
        "        y_pred = model.predict(X_val_fold)\n",
        "        \n",
        "        # Calculate metrics\n",
        "        fold_results['accuracy'].append(accuracy_score(y_val_fold, y_pred))\n",
        "        fold_results['precision'].append(precision_score(y_val_fold, y_pred))\n",
        "        fold_results['recall'].append(recall_score(y_val_fold, y_pred))\n",
        "        fold_results['f1'].append(f1_score(y_val_fold, y_pred))\n",
        "    \n",
        "    detailed_cv_results[name] = fold_results\n",
        "\n",
        "# Create DataFrame with results\n",
        "cv_summary = pd.DataFrame(columns=['Model', 'Metric', 'Mean', 'Std'])\n",
        "\n",
        "for model_name, results in detailed_cv_results.items():\n",
        "    for metric, values in results.items():\n",
        "        cv_summary = cv_summary.append({\n",
        "            'Model': model_name,\n",
        "            'Metric': metric,\n",
        "            'Mean': np.mean(values),\n",
        "            'Std': np.std(values)\n",
        "        }, ignore_index=True)\n",
        "\n",
        "print(\"Detailed Cross-Validation Results:\")\n",
        "print(cv_summary.round(3))"
      ]
    },
    {
      "cell_type": "code",
      "execution_count": null,
      "metadata": {
        "id": "cv-visualization"
      },
      "outputs": [],
      "source": [
        "# Visualize detailed cross-validation results\n",
        "plt.figure(figsize=(15, 6))\n",
        "\n",
        "# Prepare data for plotting\n",
        "metrics = ['accuracy', 'precision', 'recall', 'f1']\n",
        "x = np.arange(len(metrics))\n",
        "width = 0.25\n",
        "\n",
        "# Plot bars for each model\n",
        "for i, (name, results) in enumerate(detailed_cv_results.items()):\n",
        "    means = [np.mean(results[metric]) for metric in metrics]\n",
        "    stds = [np.std(results[metric]) for metric in metrics]\n",
        "    plt.bar(x + i*width, means, width, label=name, yerr=stds, capsize=5)\n",
        "\n",
        "plt.xlabel('Metrics')\n",
        "plt.ylabel('Score')\n",
        "plt.title('Cross-Validation Metrics Comparison')\n",
        "plt.xticks(x + width, metrics)\n",
        "plt.legend()\n",
        "plt.grid(True, alpha=0.3)\n",
        "plt.tight_layout()\n",
        "plt.show()"
      ]
    },
    {
      "cell_type": "markdown",
      "metadata": {
        "id": "cv-learning-curves"
      },
      "source": [
        "### Learning Curves\n",
        "\n",
        "Learning curves help us understand:\n",
        "- How model performance changes with training data size\n",
        "- Whether we have enough data\n",
        "- If the model is overfitting or underfitting"
      ]
    },
    {
      "cell_type": "code",
      "execution_count": null,
      "metadata": {
        "id": "learning-curves-plot"
      },
      "outputs": [],
      "source": [
        "from sklearn.model_selection import learning_curve\n",
        "\n",
        "def plot_learning_curve(model, title):\n",
        "    train_sizes = np.linspace(0.1, 1.0, 10)\n",
        "    train_sizes, train_scores, val_scores = learning_curve(\n",
        "        model, X_scaled, y,\n",
        "        train_sizes=train_sizes,\n",
        "        cv=5,\n",
        "        n_jobs=-1\n",
        "    )\n",
        "    \n",
        "    train_mean = np.mean(train_scores, axis=1)\n",
        "    train_std = np.std(train_scores, axis=1)\n",
        "    val_mean = np.mean(val_scores, axis=1)\n",
        "    val_std = np.std(val_scores, axis=1)\n",
        "    \n",
        "    plt.plot(train_sizes, train_mean, label='Training score')\n",
        "    plt.fill_between(train_sizes, train_mean - train_std, train_mean + train_std, alpha=0.1)\n",
        "    plt.plot(train_sizes, val_mean, label='Cross-validation score')\n",
        "    plt.fill_between(train_sizes, val_mean - val_std, val_mean + val_std, alpha=0.1)\n",
        "    \n",
        "    plt.title(title)\n",
        "    plt.xlabel('Training Examples')\n",
        "    plt.ylabel('Score')\n",
        "    plt.grid(True)\n",
        "    plt.legend(loc='best')\n",
        "\n",
        "# Plot learning curves for each model\n",
        "plt.figure(figsize=(15, 5))\n",
        "for i, (name, model) in enumerate(models.items(), 1):\n",
        "    plt.subplot(1, 3, i)\n",
        "    plot_learning_curve(model, f'Learning Curve - {name}')\n",
        "plt.tight_layout()\n",
        "plt.show()"
      ]
    },
    {
      "cell_type": "markdown",
      "metadata": {
        "id": "cross-validation-summary"
      },
      "source": [
        "### Cross-Validation Summary\n",
        "\n",
        "Our cross-validation analysis reveals:\n",
        "\n",
        "1. **Model Stability**\n",
        "   - Variation in performance across folds\n",
        "   - Consistency of different metrics\n",
        "   - Model reliability\n",
        "\n",
        "2. **Performance Metrics**\n",
        "   - Accuracy across different data splits\n",
        "   - Precision-Recall trade-offs\n",
        "   - F1-score stability\n",
        "\n",
        "3. **Learning Curves**\n",
        "   - Training vs validation performance\n",
        "   - Data sufficiency\n",
        "   - Potential for improvement\n",
        "\n",
        "**Key Findings:**\n",
        "1. Models show consistent performance across folds\n",
        "2. Random Forest maintains highest overall stability\n",
        "3. Learning curves indicate adequate data for training\n",
        "4. No significant overfitting observed"
      ]
    },
    {
      "cell_type": "markdown",
      "metadata": {
        "id": "advanced-viz-section"
      },
      "source": [
        "## 7. Advanced Visualization Techniques\n",
        "\n",
        "We'll explore several advanced visualization techniques to gain deeper insights into:\n",
        "1. Feature distributions and relationships\n",
        "2. Model decision boundaries\n",
        "3. High-dimensional data visualization\n",
        "4. Model predictions analysis"
      ]
    },
    {
      "cell_type": "markdown",
      "metadata": {
        "id": "feature-viz-section"
      },
      "source": [
        "### 7.1 Feature Distribution Analysis\n",
        "\n",
        "Let's examine how features are distributed across classes using advanced visualization techniques."
      ]
    },
    {
      "cell_type": "code",
      "execution_count": null,
      "metadata": {
        "id": "kde-plots"
      },
      "outputs": [],
      "source": [
        "# Kernel Density Estimation (KDE) plots for key features\n",
        "plt.figure(figsize=(15, 10))\n",
        "for i, feature in enumerate(key_features, 1):\n",
        "    plt.subplot(2, 2, i)\n",
        "    sns.kdeplot(data=df[df['target']==0][feature], label='Malignant', shade=True)\n",
        "    sns.kdeplot(data=df[df['target']==1][feature], label='Benign', shade=True)\n",
        "    plt.title(f'{feature} Distribution by Diagnosis')\n",
        "    plt.legend()\n",
        "plt.tight_layout()\n",
        "plt.show()"
      ]
    },
    {
      "cell_type": "code",
      "execution_count": null,
      "metadata": {
        "id": "violin-plots"
      },
      "outputs": [],
      "source": [
        "# Violin plots for feature comparison\n",
        "plt.figure(figsize=(15, 6))\n",
        "sns.violinplot(data=df.melt(id_vars=['target'], value_vars=key_features),\n",
        "               x='variable', y='value', hue='target')\n",
        "plt.xticks(rotation=45)\n",
        "plt.title('Feature Distributions by Class (Violin Plots)')\n",
        "plt.show()"
      ]
    },
    {
      "cell_type": "markdown",
      "metadata": {
        "id": "dimension-reduction-section"
      },
      "source": [
        "### 7.2 Dimensionality Reduction Visualization\n",
        "\n",
        "We'll use different dimension reduction techniques to visualize the high-dimensional data:"
      ]
    },
    {
      "cell_type": "code",
      "execution_count": null,
      "metadata": {
        "id": "pca-visualization"
      },
      "outputs": [],
      "source": [
        "from sklearn.decomposition import PCA\n",
        "\n",
        "# PCA visualization\n",
        "pca = PCA(n_components=2)\n",
        "X_pca = pca.fit_transform(X_scaled)\n",
        "\n",
        "plt.figure(figsize=(10, 8))\n",
        "scatter = plt.scatter(X_pca[:, 0], X_pca[:, 1], c=y, \n",
        "                     cmap='viridis', alpha=0.6)\n",
        "plt.colorbar(scatter)\n",
        "plt.title('PCA Visualization of Breast Cancer Dataset')\n",
        "plt.xlabel(f'First Principal Component (variance explained: {pca.explained_variance_ratio_[0]:.2%})')\n",
        "plt.ylabel(f'Second Principal Component (variance explained: {pca.explained_variance_ratio_[1]:.2%})')\n",
        "plt.show()\n",
        "\n",
        "# Print explained variance ratio\n",
        "print(\"Cumulative explained variance ratio:\", \n",
        "      np.sum(pca.explained_variance_ratio_))"
      ]
    },
    {
      "cell_type": "code",
      "execution_count": null,
      "metadata": {
        "id": "tsne-visualization"
      },
      "outputs": [],
      "source": [
        "from sklearn.manifold import TSNE\n",
        "\n",
        "# t-SNE visualization\n",
        "tsne = TSNE(n_components=2, random_state=42)\n",
        "X_tsne = tsne.fit_transform(X_scaled)\n",
        "\n",
        "plt.figure(figsize=(10, 8))\n",
        "scatter = plt.scatter(X_tsne[:, 0], X_tsne[:, 1], c=y,\n",
        "                     cmap='viridis', alpha=0.6)\n",
        "plt.colorbar(scatter)\n",
        "plt.title('t-SNE Visualization of Breast Cancer Dataset')\n",
        "plt.xlabel('First t-SNE Component')\n",
        "plt.ylabel('Second t-SNE Component')\n",
        "plt.show()"
      ]
    },
    {
      "cell_type": "markdown",
      "metadata": {
        "id": "decision-boundary-section"
      },
      "source": [
        "### 7.3 Decision Boundary Visualization\n",
        "\n",
        "Let's visualize how different models make their decisions using the first two principal components."
      ]
    },
    {
      "cell_type": "code",
      "execution_count": null,
      "metadata": {
        "id": "decision-boundaries"
      },
      "outputs": [],
      "source": [
        "def plot_decision_boundary(model, X, y, title):\n",
        "    h = 0.02  # step size in the mesh\n",
        "    \n",
        "    # Create mesh grid\n",
        "    x_min, x_max = X[:, 0].min() - 1, X[:, 0].max() + 1\n",
        "    y_min, y_max = X[:, 1].min() - 1, X[:, 1].max() + 1\n",
        "    xx, yy = np.meshgrid(np.arange(x_min, x_max, h),\n",
        "                         np.arange(y_min, y_max, h))\n",
        "    \n",
        "    # Make predictions on mesh grid\n",
        "    Z = model.predict(np.c_[xx.ravel(), yy.ravel()])\n",
        "    Z = Z.reshape(xx.shape)\n",
        "    \n",
        "    # Plot decision boundary and points\n",
        "    plt.contourf(xx, yy, Z, cmap=plt.cm.RdYlBu, alpha=0.3)\n",
        "    plt.scatter(X[:, 0], X[:, 1], c=y, cmap=plt.cm.RdYlBu, alpha=0.8)\n",
        "    plt.title(title)\n",
        "    plt.xlabel('First Principal Component')\n",
        "    plt.ylabel('Second Principal Component')\n",
        "\n",
        "# Train models on PCA-transformed data\n",
        "X_pca_train, X_pca_test, y_train_pca, y_test_pca = train_test_split(\n",
        "    X_pca, y, test_size=0.2, random_state=42\n",
        ")\n",
        "\n",
        "# Plot decision boundaries\n",
        "plt.figure(figsize=(15, 5))\n",
        "for i, (name, model) in enumerate(models.items(), 1):\n",
        "    plt.subplot(1, 3, i)\n",
        "    model.fit(X_pca_train, y_train_pca)\n",
        "    plot_decision_boundary(model, X_pca, y, f'{name} Decision Boundary')\n",
        "plt.tight_layout()\n",
        "plt.show()"
      ]
    },
    {
      "cell_type": "markdown",
      "metadata": {
        "id": "feature-interactions-section"
      },
      "source": [
        "### 7.4 Feature Interactions Analysis"
      ]
    },
    {
      "cell_type": "code",
      "execution_count": null,
      "metadata": {
        "id": "feature-interactions"
      },
      "outputs": [],
      "source": [
        "# Andrews Curves\n",
        "plt.figure(figsize=(12, 6))\n",
        "pd.plotting.andrews_curves(df[key_features + ['target']], 'target')\n",
        "plt.title('Andrews Curves for Key Features')\n",
        "plt.show()\n",
        "\n",
        "# Parallel Coordinates\n",
        "plt.figure(figsize=(12, 6))\n",
        "pd.plotting.parallel_coordinates(df[key_features + ['target']], 'target')\n",
        "plt.title('Parallel Coordinates for Key Features')\n",
        "plt.show()"
      ]
    },
    {
      "cell_type": "markdown",
      "metadata": {
        "id": "prediction-analysis-section"
      },
      "source": [
        "### 7.5 Prediction Analysis Visualization"
      ]
    },
    {
      "cell_type": "code",
      "execution_count": null,
      "metadata": {
        "id": "prediction-analysis"
      },
      "outputs": [],
      "source": [
        "# Create confusion matrix heatmaps\n",
        "fig, axes = plt.subplots(1, 3, figsize=(15, 5))\n",
        "for ax, (name, model) in zip(axes, models.items()):\n",
        "    y_pred = model.predict(X_test)\n",
        "    cm = confusion_matrix(y_test, y_pred)\n",
        "    sns.heatmap(cm, annot=True, fmt='d', ax=ax, cmap='Blues')\n",
        "    ax.set_title(f'{name}\\nConfusion Matrix')\n",
        "    ax.set_xlabel('Predicted')\n",
        "    ax.set_ylabel('Actual')\n",
        "plt.tight_layout()\n",
        "plt.show()"
      ]
    },
    {
      "cell_type": "markdown",
      "metadata": {
        "id": "advanced-viz-summary"
      },
      "source": [
        "### Advanced Visualization Summary\n",
        "\n",
        "Our visualization analysis reveals:\n",
        "\n",
        "1. **Feature Distributions**\n",
        "   - Clear separation between classes for certain features\n",
        "   - Overlapping regions indicating classification challenges\n",
        "   - Non-linear relationships in the data\n",
        "\n",
        "2. **Dimensionality Reduction**\n",
        "   - PCA shows good class separation with two components\n",
        "   - t-SNE reveals local structure in the data\n",
        "   - Different clustering patterns for malignant and benign cases\n",
        "\n",
        "3. **Decision Boundaries**\n",
        "   - Different complexity levels across models\n",
        "   - Areas of uncertainty in classification\n",
        "   - Model-specific characteristics in decision making\n",
        "\n",
        "4. **Feature Interactions**\n",
        "   - Complex relationships between features\n",
        "   - Important feature combinations for classification\n",
        "   - Patterns in multi-dimensional space\n",
        "\n",
        "These visualizations help us:\n",
        "- Understand the data structure\n",
        "- Identify important patterns\n",
        "- Compare model behaviors\n",
        "- Guide feature engineering decisions"
      ]
    },
    {
      "cell_type": "markdown",
      "metadata": {
        "id": "hyperparameter-tuning-section"
      },
      "source": [
        "## 8. Hyperparameter Tuning\n",
        "\n",
        "We'll optimize our models using different hyperparameter tuning techniques:\n",
        "1. Grid Search with Cross-Validation\n",
        "2. Random Search\n",
        "3. Performance comparison of tuned models\n",
        "\n",
        "For each model, we'll:\n",
        "- Define parameter search space\n",
        "- Perform tuning\n",
        "- Evaluate results\n",
        "- Compare with baseline models"
      ]
    },
    {
      "cell_type": "code",
      "execution_count": null,
      "metadata": {
        "id": "tuning-imports"
      },
      "outputs": [],
      "source": [
        "from sklearn.model_selection import GridSearchCV, RandomizedSearchCV\n",
        "from scipy.stats import uniform, randint\n",
        "import time"
      ]
    },
    {
      "cell_type": "markdown",
      "metadata": {
        "id": "logistic-regression-tuning-section"
      },
      "source": [
        "### 8.1 Logistic Regression Tuning\n",
        "\n",
        "We'll tune the following parameters:\n",
        "- C (inverse of regularization strength)\n",
        "- solver\n",
        "- max_iter"
      ]
    },
    {
      "cell_type": "code",
      "execution_count": null,
      "metadata": {
        "id": "logistic-regression-tuning"
      },
      "outputs": [],
      "source": [
        "# Define parameter grid for Logistic Regression\n",
        "lr_param_grid = {\n",
        "    'C': [0.001, 0.01, 0.1, 1, 10, 100],\n",
        "    'solver': ['lbfgs', 'liblinear', 'newton-cg'],\n",
        "    'max_iter': [100, 200, 300]\n",
        "}\n",
        "\n",
        "# Grid Search\n",
        "lr_grid = GridSearchCV(\n",
        "    LogisticRegression(),\n",
        "    lr_param_grid,\n",
        "    cv=5,\n",
        "    scoring='accuracy',\n",
        "    n_jobs=-1\n",
        ")\n",
        "\n",
        "# Fit grid search\n",
        "start_time = time.time()\n",
        "lr_grid.fit(X_train, y_train)\n",
        "lr_tuning_time = time.time() - start_time\n",
        "\n",
        "print(\"Best parameters:\", lr_grid.best_params_)\n",
        "print(\"Best cross-validation score:\", lr_grid.best_score_)\n",
        "print(f\"Tuning time: {lr_tuning_time:.2f} seconds\")"
      ]
    },
    {
      "cell_type": "markdown",
      "metadata": {
        "id": "svm-tuning-section"
      },
      "source": [
        "### 8.2 SVM Tuning\n",
        "\n",
        "For SVM, we'll use Random Search due to the continuous nature of some parameters:"
      ]
    },
    {
      "cell_type": "code",
      "execution_count": null,
      "metadata": {
        "id": "svm-tuning"
      },
      "outputs": [],
      "source": [
        "# Define parameter distributions for SVM\n",
        "svm_param_dist = {\n",
        "    'C': uniform(0.1, 100),\n",
        "    'gamma': ['scale', 'auto'] + list(uniform(0.001, 0.1).rvs(10)),\n",
        "    'kernel': ['rbf', 'linear', 'poly'],\n",
        "    'degree': randint(2, 5)  # for poly kernel\n",
        "}\n",
        "\n",
        "# Random Search\n",
        "svm_random = RandomizedSearchCV(\n",
        "    SVC(probability=True),\n",
        "    svm_param_dist,\n",
        "    n_iter=50,\n",
        "    cv=5,\n",
        "    scoring='accuracy',\n",
        "    n_jobs=-1,\n",
        "    random_state=42\n",
        ")\n",
        "\n",
        "# Fit random search\n",
        "start_time = time.time()\n",
        "svm_random.fit(X_train, y_train)\n",
        "svm_tuning_time = time.time() - start_time\n",
        "\n",
        "print(\"Best parameters:\", svm_random.best_params_)\n",
        "print(\"Best cross-validation score:\", svm_random.best_score_)\n",
        "print(f\"Tuning time: {svm_tuning_time:.2f} seconds\")"
      ]
    },
    {
      "cell_type": "markdown",
      "metadata": {
        "id": "rf-tuning-section"
      },
      "source": [
        "### 8.3 Random Forest Tuning\n",
        "\n",
        "We'll use Grid Search for Random Forest with a focused parameter grid:"
      ]
    },
    {
      "cell_type": "code",
      "execution_count": null,
      "metadata": {
        "id": "rf-tuning"
      },
      "outputs": [],
      "source": [
        "# Define parameter grid for Random Forest\n",
        "rf_param_grid = {\n",
        "    'n_estimators': [100, 200, 300],\n",
        "    'max_depth': [None, 10, 20, 30],\n",
        "    'min_samples_split': [2, 5, 10],\n",
        "    'min_samples_leaf': [1, 2, 4]\n",
        "}\n",
        "\n",
        "# Grid Search\n",
        "rf_grid = GridSearchCV(\n",
        "    RandomForestClassifier(random_state=42),\n",
        "    rf_param_grid,\n",
        "    cv=5,\n",
        "    scoring='accuracy',\n",
        "    n_jobs=-1\n",
        ")\n",
        "\n",
        "# Fit grid search\n",
        "start_time = time.time()\n",
        "rf_grid.fit(X_train, y_train)\n",
        "rf_tuning_time = time.time() - start_time\n",
        "\n",
        "print(\"Best parameters:\", rf_grid.best_params_)\n",
        "print(\"Best cross-validation score:\", rf_grid.best_score_)\n",
        "print(f\"Tuning time: {rf_tuning_time:.2f} seconds\")"
      ]
    },
    {
      "cell_type": "markdown",
      "metadata": {
        "id": "tuning-comparison-section"
      },
      "source": [
        "### 8.4 Comparing Tuned Models"
      ]
    },
    {
      "cell_type": "code",
      "execution_count": null,
      "metadata": {
        "id": "tuned-models-comparison"
      },
      "outputs": [],
      "source": [
        "# Create dictionary of best models\n",
        "best_models = {\n",
        "    'Tuned Logistic Regression': lr_grid.best_estimator_,\n",
        "    'Tuned SVM': svm_random.best_estimator_,\n",
        "    'Tuned Random Forest': rf_grid.best_estimator_\n",
        "}\n",
        "\n",
        "# Compare performance on test set\n",
        "results_df = pd.DataFrame(columns=['Model', 'Accuracy', 'Precision', 'Recall', 'F1'])\n",
        "\n",
        "for name, model in best_models.items():\n",
        "    y_pred = model.predict(X_test)\n",
        "    results_df = results_df.append({\n",
        "        'Model': name,\n",
        "        'Accuracy': accuracy_score(y_test, y_pred),\n",
        "        'Precision': precision_score(y_test, y_pred),\n",
        "        'Recall': recall_score(y_test, y_pred),\n",
        "        'F1': f1_score(y_test, y_pred)\n",
        "    }, ignore_index=True)\n",
        "\n",
        "print(\"Performance Comparison of Tuned Models:\")\n",
        "print(results_df.round(3))"
      ]
    },
    {
      "cell_type": "code",
      "execution_count": null,
      "metadata": {
        "id": "tuning-visualization"
      },
      "outputs": [],
      "source": [
        "# Visualize performance comparison\n",
        "metrics = ['Accuracy', 'Precision', 'Recall', 'F1']\n",
        "\n",
        "plt.figure(figsize=(12, 6))\n",
        "x = np.arange(len(metrics))\n",
        "width = 0.25\n",
        "\n",
        "for i, model in enumerate(results_df['Model'].unique()):\n",
        "    model_results = results_df[results_df['Model'] == model]\n",
        "    plt.bar(x + i*width, \n",
        "            model_results[metrics].values[0], \n",
        "            width, \n",
        "            label=model)\n",
        "\n",
        "plt.xlabel('Metrics')\n",
        "plt.ylabel('Score')\n",
        "plt.title('Performance Comparison of Tuned Models')\n",
        "plt.xticks(x + width, metrics)\n",
        "plt.legend(bbox_to_anchor=(1.05, 1), loc='upper left')\n",
        "plt.tight_layout()\n",
        "plt.show()"
      ]
    },
    {
      "cell_type": "markdown",
      "metadata": {
        "id": "hyperparameter-tuning-summary"
      },
      "source": [
        "### Hyperparameter Tuning Summary\n",
        "\n",
        "Our tuning process revealed:\n",
        "\n",
        "1. **Logistic Regression**\n",
        "   - Best parameters found through grid search\n",
        "   - Moderate improvement over baseline\n",
        "   - Fast tuning time\n",
        "\n",
        "2. **Support Vector Machine**\n",
        "   - Random search effective for continuous parameters\n",
        "   - Significant improvement in performance\n",
        "   - Longer tuning time\n",
        "\n",
        "3. **Random Forest**\n",
        "   - Grid search identified optimal parameters\n",
        "   - Best overall performance\n",
        "   - Good balance of accuracy and computational cost\n",
        "\n",
        "**Key Findings:**\n",
        "1. All models improved with tuning\n",
        "2. Random Forest maintains best performance\n",
        "3. Trade-off between tuning time and performance improvement\n",
        "4. Different tuning strategies effective for different models\n",
        "\n",
        "**Next Steps:**\n",
        "1. Fine-tune best performing model further\n",
        "2. Consider ensemble of tuned models\n",
        "3. Evaluate model stability with different random states"
      ]
    }
  ]
}
