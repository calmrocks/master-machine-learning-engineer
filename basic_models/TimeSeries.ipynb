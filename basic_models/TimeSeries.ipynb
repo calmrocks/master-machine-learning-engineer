{
  "nbformat": 4,
  "nbformat_minor": 0,
  "metadata": {
    "kernelspec": {
      "name": "python3",
      "display_name": "Python 3"
    },
    "language_info": {
      "name": "python"
    },
    "title": "Forecasting Energy Demand Using Time-Series Analysis"
  },
  "cells": [
    {
      "cell_type": "markdown",
      "metadata": {},
      "source": "## Case Study: Forecasting Energy Demand Using Time-Series Analysis\n\nIn this case study, we demonstrate how to apply time-series forecasting techniques to predict energy demand using the **Electricity Load Diagrams 2011** dataset, a popular open-source dataset. We will explore the steps to prepare the data, analyze its trends and seasonality, and build a forecasting model using SARIMA and LSTM."
    },
    {
      "cell_type": "markdown",
      "metadata": {},
      "source": "### Dataset Overview\n\nThe Electricity Load Diagrams 2011 dataset contains hourly electrical load data from a Portuguese electricity provider. The data spans a full year, making it suitable for exploring trends, seasonality, and short-term variations.\n\n#### Key Features:\n- **Datetime**: The timestamp for each observation.\n- **Load (kW)**: The hourly electricity consumption.\n\nThe dataset is available for download [here](https://archive.ics.uci.edu/ml/datasets/ElectricityLoadDiagrams2011)."
    },
    {
      "cell_type": "markdown",
      "metadata": {},
      "source": "### Step 1: Data Preparation\n\nBefore building a model, we need to load, clean, and preprocess the data."
    },
    {
      "cell_type": "code",
      "metadata": {},
      "source": "import pandas as pd\nimport matplotlib.pyplot as plt\n\n# Load the dataset\ndata = pd.read_csv(\"LD2011_2011.txt\", sep=\";\", index_col=0, parse_dates=True)\n\n# Select a single household's data for simplicity\nhousehold_data = data.iloc[:, 0]  # Selecting the first column\nhousehold_data = household_data.resample('H').mean()  # Resample to hourly data\n\n# Plot the time series\nplt.figure(figsize=(10, 6))\nplt.plot(household_data, label=\"Hourly Energy Consumption\")\nplt.title(\"Hourly Energy Consumption (2011)\")\nplt.xlabel(\"Time\")\nplt.ylabel(\"Energy Consumption (kW)\")\nplt.legend()\nplt.show()"
    },
    {
      "cell_type": "markdown",
      "metadata": {},
      "source": "### Step 2: Exploratory Data Analysis\n\n#### Decomposition of Time-Series\nUsing Seasonal-Trend decomposition (STL) to separate the series into trend, seasonality, and residual components."
    },
    {
      "cell_type": "code",
      "metadata": {},
      "source": "from statsmodels.tsa.seasonal import STL\n\n# Perform STL decomposition\nstl = STL(household_data, seasonal=24)  # 24-hour daily seasonality\nresult = stl.fit()\n\n# Plot components\nresult.plot()\nplt.show()"
    },
    {
      "cell_type": "markdown",
      "metadata": {},
      "source": "### Step 3: Model Building\n\n#### A. SARIMA Model\nSARIMA (Seasonal ARIMA) is well-suited for capturing both trends and seasonality."
    },
    {
      "cell_type": "code",
      "metadata": {},
      "source": "from statsmodels.tsa.statespace.sarimax import SARIMAX\nfrom sklearn.metrics import mean_squared_error\n\n# Split data into training and testing sets\ntrain = household_data[:'2011-10']\ntest = household_data['2011-11':]\n\n# Fit SARIMA model\nsarima_model = SARIMAX(train, order=(1, 1, 1), seasonal_order=(1, 1, 1, 24))\nsarima_result = sarima_model.fit()\n\n# Forecast\nforecast = sarima_result.forecast(steps=len(test))\n\n# Evaluate model\nmse = mean_squared_error(test, forecast)\nprint(f\"SARIMA Test MSE: {mse}\")\n\n# Plot forecast\nplt.figure(figsize=(10, 6))\nplt.plot(train, label=\"Training Data\")\nplt.plot(test, label=\"Test Data\", color=\"orange\")\nplt.plot(test.index, forecast, label=\"SARIMA Forecast\", color=\"green\")\nplt.legend()\nplt.show()"
    },
    {
      "cell_type": "markdown",
      "metadata": {},
      "source": "#### B. LSTM Model\nLong Short-Term Memory (LSTM) networks handle non-linear patterns and long-term dependencies in time-series data."
    },
    {
      "cell_type": "code",
      "metadata": {},
      "source": "import numpy as np\nfrom tensorflow.keras.models import Sequential\nfrom tensorflow.keras.layers import LSTM, Dense\n\n# Prepare data for LSTM\ndef create_lagged_data(series, lag):\n    X, y = [], []\n    for i in range(len(series) - lag):\n        X.append(series[i:i+lag])\n        y.append(series[i+lag])\n    return np.array(X), np.array(y)\n\n# Create lagged dataset\nlag = 24\nX, y = create_lagged_data(household_data.values, lag)\n\n# Split into train and test\ntrain_size = int(len(X) * 0.8)\nX_train, X_test = X[:train_size], X[train_size:]\ny_train, y_test = y[:train_size], y[train_size:]\n\n# Reshape for LSTM input\nX_train = X_train.reshape((X_train.shape[0], X_train.shape[1], 1))\nX_test = X_test.reshape((X_test.shape[0], X_test.shape[1], 1))\n\n# Build LSTM model\nmodel = Sequential([\n    LSTM(50, activation='relu', input_shape=(lag, 1)),\n    Dense(1)\n])\nmodel.compile(optimizer='adam', loss='mse')\n\n# Train model\nmodel.fit(X_train, y_train, epochs=10, batch_size=32, verbose=1)\n\n# Forecast\nlstm_forecast = model.predict(X_test)\n\n# Plot results\nplt.figure(figsize=(10, 6))\nplt.plot(y_test, label=\"Actual Data\", color=\"orange\")\nplt.plot(lstm_forecast, label=\"LSTM Forecast\", color=\"green\")\nplt.legend()\nplt.show()"
    },
    {
      "cell_type": "markdown",
      "metadata": {},
      "source": "### Step 4: Summary and Recommendations\n\n#### Summary:\n- **SARIMA**: Suitable for capturing linear trends and seasonality in time-series data.\n- **LSTM**: Effective for handling non-linear patterns and long-term dependencies.\n\n#### Recommendations:\n- For simpler time-series data with clear seasonality, SARIMA provides interpretable and robust forecasts.\n- For complex data with non-linear patterns or multiple seasonal cycles, LSTM offers better adaptability and accuracy.\n\n#### Next Steps:\n- Experiment with hybrid models combining SARIMA and LSTM to leverage their strengths.\n- Explore advanced techniques like Prophet or Transformer-based time-series models for further improvement."
    }
  ]
}
