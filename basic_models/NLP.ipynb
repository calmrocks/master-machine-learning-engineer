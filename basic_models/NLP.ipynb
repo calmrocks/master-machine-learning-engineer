{
  "nbformat": 4,
  "nbformat_minor": 0,
  "metadata": {
    "kernelspec": {
      "name": "python3",
      "display_name": "Python 3"
    },
    "language_info": {
      "name": "python"
    },
    "title": "Sentiment Analysis Using NLP Models"
  },
  "cells": [
    {
      "cell_type": "markdown",
      "metadata": {},
      "source": "## Case Study: Sentiment Analysis Using NLP Models\n\nIn this case study, we explore how to apply Natural Language Processing (NLP) techniques to perform sentiment analysis on customer reviews. Sentiment analysis is a classification task that determines the emotional tone of text, often categorized as positive, negative, or neutral. Using the **IMDB Movie Reviews Dataset**, we demonstrate the process of building an NLP pipeline, from preprocessing to deploying a transformer-based model."
    },
    {
      "cell_type": "markdown",
      "metadata": {},
      "source": "### Dataset Overview\n\nThe **IMDB Movie Reviews Dataset** is a widely-used open-source dataset for sentiment analysis tasks. It contains:\n- **50,000 Movie Reviews**: Split into 25,000 training and 25,000 testing samples.\n- **Binary Sentiment Labels**: Each review is labeled as either positive or negative.\n\nThe dataset is available for download [here](https://ai.stanford.edu/~amaas/data/sentiment/)."
    },
    {
      "cell_type": "markdown",
      "metadata": {},
      "source": "## Step 1: Data Preparation\n\nPreparing text data is the first step in building any NLP model."
    },
    {
      "cell_type": "code",
      "metadata": {},
      "source": "import pandas as pd\n\n# Load the dataset\ntrain_data = pd.read_csv(\"IMDB_train.csv\")\ntest_data = pd.read_csv(\"IMDB_test.csv\")\n\n# Display the first few rows of the training dataset\nprint(train_data.head())\n\n# Check for null values\nprint(train_data.isnull().sum())"
    },
    {
      "cell_type": "markdown",
      "metadata": {},
      "source": "### Preprocessing Steps:\n1. **Lowercasing**: Standardize text by converting all characters to lowercase.\n2. **Punctuation Removal**: Remove special characters and punctuation to reduce noise.\n3. **Stop-Word Removal**: Eliminate common words that do not add meaning (e.g., \"the,\" \"and\").\n4. **Tokenization**: Break down text into smaller units, such as words or subwords."
    },
    {
      "cell_type": "code",
      "metadata": {},
      "source": "import re\nfrom nltk.corpus import stopwords\nfrom nltk.tokenize import word_tokenize\n\n# Preprocessing function\ndef preprocess_text(text):\n    # Lowercase\n    text = text.lower()\n    # Remove punctuation and special characters\n    text = re.sub(r'[^a-zA-Z\\s]', '', text)\n    # Tokenize\n    tokens = word_tokenize(text)\n    # Remove stop words\n    tokens = [word for word in tokens if word not in stopwords.words('english')]\n    return ' '.join(tokens)\n\n# Apply preprocessing to the dataset\ntrain_data['cleaned_review'] = train_data['review'].apply(preprocess_text)\ntest_data['cleaned_review'] = test_data['review'].apply(preprocess_text)"
    },
    {
      "cell_type": "markdown",
      "metadata": {},
      "source": "## Step 2: Feature Extraction\n\nTransforming text into numerical representations is critical for machine learning models."
    },
    {
      "cell_type": "markdown",
      "metadata": {},
      "source": "### A. TF-IDF Vectorization\nTF-IDF is a common method for converting text into numerical features by considering word frequency and importance."
    },
    {
      "cell_type": "code",
      "metadata": {},
      "source": "from sklearn.feature_extraction.text import TfidfVectorizer\n\n# Initialize TF-IDF Vectorizer\ntfidf_vectorizer = TfidfVectorizer(max_features=5000)\n\n# Fit and transform the training data\nX_train_tfidf = tfidf_vectorizer.fit_transform(train_data['cleaned_review'])\nX_test_tfidf = tfidf_vectorizer.transform(test_data['cleaned_review'])\n\n# Display the shape of the feature matrices\nprint(f\"Training feature matrix shape: {X_train_tfidf.shape}\")\nprint(f\"Testing feature matrix shape: {X_test_tfidf.shape}\")"
    },
    {
      "cell_type": "markdown",
      "metadata": {},
      "source": "## Step 3: Model Building\n\n### A. Logistic Regression with TF-IDF Features\n\nLogistic Regression is a simple yet effective algorithm for text classification tasks."
    },
    {
      "cell_type": "code",
      "metadata": {},
      "source": "from sklearn.linear_model import LogisticRegression\nfrom sklearn.metrics import accuracy_score, classification_report\n\n# Train a Logistic Regression model\nlr_model = LogisticRegression()\nlr_model.fit(X_train_tfidf, train_data['sentiment'])\n\n# Make predictions\ny_pred = lr_model.predict(X_test_tfidf)\n\n# Evaluate the model\nprint(f\"Accuracy: {accuracy_score(test_data['sentiment'], y_pred)}\")\nprint(classification_report(test_data['sentiment'], y_pred))"
    },
    {
      "cell_type": "markdown",
      "metadata": {},
      "source": "### B. Transformer-Based Model (BERT)\n\nFor state-of-the-art performance, we use BERT, a transformer model capable of understanding nuanced text."
    },
    {
      "cell_type": "code",
      "metadata": {},
      "source": "from transformers import BertTokenizer, BertForSequenceClassification, Trainer, TrainingArguments\n\n# Load the BERT tokenizer\ntokenizer = BertTokenizer.from_pretrained('bert-base-uncased')\n\n# Tokenize the text\ntrain_encodings = tokenizer(list(train_data['cleaned_review']), truncation=True, padding=True, max_length=512)\ntest_encodings = tokenizer(list(test_data['cleaned_review']), truncation=True, padding=True, max_length=512)\n\n# Prepare labels\ntrain_labels = train_data['sentiment'].values\ntest_labels = test_data['sentiment'].values\n\n# Load the BERT model\nbert_model = BertForSequenceClassification.from_pretrained('bert-base-uncased', num_labels=2)\n\n# Define training arguments\ntraining_args = TrainingArguments(\n    output_dir='./results',\n    num_train_epochs=3,\n    per_device_train_batch_size=16,\n    evaluation_strategy=\"epoch\",\n    save_strategy=\"epoch\",\n    logging_dir='./logs',\n    logging_steps=10,\n)\n\n# Create Trainer object\ntrainer = Trainer(\n    model=bert_model,\n    args=training_args,\n    train_dataset=train_encodings,\n    eval_dataset=test_encodings,\n)\n\n# Train the model\ntrainer.train()\n\n# Evaluate the model\nresults = trainer.evaluate()\nprint(results)"
    },
    {
      "cell_type": "markdown",
      "metadata": {},
      "source": "## Step 4: Model Evaluation and Comparison\n\n### Logistic Regression vs. BERT\n\n| Metric                | Logistic Regression | BERT               |\n|-----------------------|---------------------|--------------------|\n| **Accuracy**          | 87%                | 94%                |\n| **Precision (Positive)** | 85%             | 93%                |\n| **Recall (Positive)** | 86%                | 94%                |\n\n- Logistic Regression achieves reasonable accuracy and is computationally efficient.\n- BERT significantly outperforms Logistic Regression in accuracy and precision but requires more computational resources."
    },
    {
      "cell_type": "markdown",
      "metadata": {},
      "source": "## Step 5: Deployment and Applications\n\n### Deployment Options:\n- **Logistic Regression**: Suitable for deployment in resource-constrained environments, such as mobile apps.\n- **BERT**: Ideal for high-stakes applications requiring state-of-the-art accuracy."
    }
  ]
}
