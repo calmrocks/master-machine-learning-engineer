{
  "nbformat": 4,
  "nbformat_minor": 0,
  "metadata": {
    "colab": {
      "provenance": [],
      "authorship_tag": "ABX9TyMY1pwO30/5O9ryfAS2eV9y",
      "include_colab_link": true
    },
    "kernelspec": {
      "name": "python3",
      "display_name": "Python 3"
    },
    "language_info": {
      "name": "python"
    }
  },
  "cells": [
    {
      "cell_type": "markdown",
      "metadata": {
        "id": "view-in-github",
        "colab_type": "text"
      },
      "source": [
        "<a href=\"https://colab.research.google.com/github/calmrocks/master-machine-learning-engineer/blob/main/basic_models/Classification1.ipynb\" target=\"_parent\"><img src=\"https://colab.research.google.com/assets/colab-badge.svg\" alt=\"Open In Colab\"/></a>"
      ]
    },
    {
      "cell_type": "code",
      "execution_count": null,
      "metadata": {
        "id": "zT205Xo36Ck1"
      },
      "outputs": [],
      "source": []
    },
    {
      "cell_type": "markdown",
      "source": [
        "# Classfication Model Walkthrough\n",
        "\n",
        "## Problem Statement\n",
        "\n",
        "We will try to get some insights for mental health in tech.\n",
        "\n",
        "## Dataset\n",
        "[Machine Learning for Mental Health](https://www.kaggle.com/code/youpengcheng/machine-learning-for-mental-health)\n",
        "\n",
        "## Similar notebook in Kaggle\n",
        "\n",
        "Most of the code is taken from [Machine Learning for Mental Health](https://www.kaggle.com/code/youpengcheng/machine-learning-for-mental-health). It would be easier to use Kaggle notebook."
      ],
      "metadata": {
        "id": "Ptq5ivYE7Pls"
      }
    },
    {
      "cell_type": "markdown",
      "source": [
        "# Getting data\n",
        "\n",
        "The dataset is in Kaggle. If you are using Kaggle notebook, you can add the dataset directly to the notbook. On colab, we need to first get the data."
      ],
      "metadata": {
        "id": "AB-sb_EN8Ju_"
      }
    },
    {
      "cell_type": "code",
      "source": [
        "import pandas as pd\n",
        "\n",
        "url = \"https://raw.githubusercontent.com/calmrocks/master-machine-learning-engineer/main/basic_models/data/survey.csv\"\n",
        "df = pd.read_csv(url)"
      ],
      "metadata": {
        "id": "iF2hKCT_8hwK"
      },
      "execution_count": 3,
      "outputs": []
    },
    {
      "cell_type": "code",
      "source": [
        "pd"
      ],
      "metadata": {
        "id": "GUoU50sv9pCT"
      },
      "execution_count": null,
      "outputs": []
    }
  ]
}