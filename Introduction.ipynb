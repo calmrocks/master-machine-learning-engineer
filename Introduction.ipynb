{
  "nbformat": 4,
  "nbformat_minor": 0,
  "metadata": {
    "colab": {
      "provenance": [],
      "authorship_tag": "ABX9TyMPlWWf5BNZ/q+Qm8czAddZ",
      "include_colab_link": true
    },
    "kernelspec": {
      "name": "python3",
      "display_name": "Python 3"
    },
    "language_info": {
      "name": "python"
    }
  },
  "cells": [
    {
      "cell_type": "markdown",
      "metadata": {
        "id": "view-in-github",
        "colab_type": "text"
      },
      "source": [
        "<a href=\"https://colab.research.google.com/github/calmrocks/master-machine-learning-engineer/blob/main/Introduction.ipynb\" target=\"_parent\"><img src=\"https://colab.research.google.com/assets/colab-badge.svg\" alt=\"Open In Colab\"/></a>"
      ]
    },
    {
      "cell_type": "markdown",
      "source": [
        "## Introduction to Using Notebooks in Google Colab\n",
        "\n",
        "Jupyter Notebooks are interactive documents that combine live code, visualizations, and explanatory text. They are an essential tool for data scientists, machine learning engineers, and anyone working with data analysis and coding in Python or R. Google Colab provides a cloud-based environment for running Jupyter Notebooks, making them accessible and collaborative.\n",
        "\n",
        "Getting started\n",
        "\n",
        "1. Open a new or existing notebook in Google Colab.\n",
        "2. Write your code in code cells.\n",
        "3. Execute code cells by pressing **Shift+Enter** or clicking the **Play** button.\n",
        "4. Add and edit text using Markdown cells.\n",
        "5. Use the menu and toolbar options to navigate, format, and share your notebook.\n"
      ],
      "metadata": {
        "id": "txhbmu_SW8hC"
      }
    },
    {
      "cell_type": "code",
      "execution_count": 1,
      "metadata": {
        "id": "73QGZZzkG0yM",
        "outputId": "0178562b-1303-4e84-a278-5433b7ba2cb2",
        "colab": {
          "base_uri": "https://localhost:8080/"
        }
      },
      "outputs": [
        {
          "output_type": "stream",
          "name": "stdout",
          "text": [
            "Hello from Google Colab!\n",
            "The sum of 10 and 5 is 15\n",
            "The difference of 10 and 5 is 5\n",
            "The product of 10 and 5 is 50\n",
            "The quotient of 10 and 5 is 2.0\n"
          ]
        }
      ],
      "source": [
        "# prompt: Write an example short python to run here.\n",
        "\n",
        "print(\"Hello from Google Colab!\")\n",
        "a = 10\n",
        "b = 5\n",
        "print(f\"The sum of {a} and {b} is {a + b}\")\n",
        "print(f\"The difference of {a} and {b} is {a - b}\")\n",
        "print(f\"The product of {a} and {b} is {a * b}\")\n",
        "print(f\"The quotient of {a} and {b} is {a / b}\")\n"
      ]
    },
    {
      "cell_type": "markdown",
      "source": [
        "This is a text box that you can edit. To edit the text, double-click inside the box. You can use markdown format in the text boxes."
      ],
      "metadata": {
        "id": "a2DolBBwXmsk"
      }
    },
    {
      "cell_type": "code",
      "source": [],
      "metadata": {
        "id": "TBxltvE9XOs2"
      },
      "execution_count": null,
      "outputs": []
    }
  ]
}